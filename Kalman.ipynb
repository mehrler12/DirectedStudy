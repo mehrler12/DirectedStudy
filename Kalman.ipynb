{
 "cells": [
  {
   "cell_type": "markdown",
   "metadata": {},
   "source": [
    "# Constant Acceleration and Noise\n",
    "\n",
    "Generate 2d kinematic data with constant acceleration and noise. Adds noise to each measurement"
   ]
  },
  {
   "cell_type": "code",
   "execution_count": 82,
   "metadata": {
    "scrolled": true
   },
   "outputs": [
    {
     "data": {
      "text/plain": [
       "4×4×100 Array{Float64,3}:\n",
       "[:, :, 1] =\n",
       "  0.0  400.0  20.0  333.0\n",
       " 60.0  400.0  30.0    0.0\n",
       "  0.0    0.0   0.0    0.0\n",
       "  0.0    0.0   0.0    0.0\n",
       "\n",
       "[:, :, 2] =\n",
       "  0.0505  399.95   20.0252  333.0 \n",
       " 60.05    400.05   30.025     0.05\n",
       "  0.101    -0.101   0.0505    0.0 \n",
       "  0.1       0.1     0.05      0.1 \n",
       "\n",
       "[:, :, 3] =\n",
       "  0.202505  399.797    20.1013    333.0\n",
       " 60.2       400.2      30.1         0.2\n",
       "  0.20301    -0.20301   0.101505    0.0\n",
       "  0.2         0.2       0.1         0.2\n",
       "\n",
       "...\n",
       "\n",
       "[:, :, 98] =\n",
       " 670.026   -270.026   355.013    333.0 \n",
       " 530.45     870.45    265.225    470.45\n",
       "  16.4152   -16.4152    8.20759    0.0 \n",
       "   9.7        9.7       4.85       9.7 \n",
       "\n",
       "[:, :, 99] =\n",
       " 686.574   -286.574   363.287    333.0\n",
       " 540.2      880.2     270.1      480.2\n",
       "  16.6803   -16.6803    8.34017    0.0\n",
       "   9.8        9.8       4.9        9.8\n",
       "\n",
       "[:, :, 100] =\n",
       " 703.388   -303.388   371.694    333.0 \n",
       " 550.05     890.05    275.025    490.05\n",
       "  16.9481   -16.9481    8.47407    0.0 \n",
       "   9.9        9.9       4.95       9.9 "
      ]
     },
     "execution_count": 82,
     "metadata": {},
     "output_type": "execute_result"
    }
   ],
   "source": [
    "using Plots\n",
    "function generateKinematics(ax,ay,x0,y0,vx0,vy0,dt,measurements,noise,vnoise)\n",
    "    #Measurement Arrays\n",
    "    x = [x0]\n",
    "    y = [y0]\n",
    "    vx = [vx0]\n",
    "    vy = [vy0]\n",
    "\n",
    "    #Generate true gold set data based on kinematic equations \n",
    "    for i in 2:measurements\n",
    "        ax *= 1.01\n",
    "        xi = x[i-1] + vx[i-1] * dt + ax * .5 * dt^2\n",
    "        yi = y[i-1] + vy[i-1] * dt + ay * .5 * dt^2\n",
    "        vxi = vx[i-1] + ax*dt\n",
    "        vyi = vy[i-1] + ay*dt\n",
    "        append!(x,xi)\n",
    "        append!(y,yi)\n",
    "        append!(vx,vxi)\n",
    "        append!(vy,vyi)\n",
    "    end\n",
    "\n",
    "    #Plot true data\n",
    "    #plot(x,y, label=\"True\")\n",
    "\n",
    "    #Add and plot noise\n",
    "    xn = x + (rand(Float64,size(x)) .* noise .- noise/2)\n",
    "    yn = y + (rand(Float64,size(y)) .* noise .- noise/2)\n",
    "    vxn = vx + (rand(Float64,size(vx)) .* vnoise .- vnoise/2)\n",
    "    vyn = vy + (rand(Float64,size(vy)) .* vnoise .- vnoise/2)\n",
    "    measurements = hcat(xn,yn,vxn,vyn)\n",
    "    measurementsTrue = hcat(x,y,vx,vy)\n",
    "    #scatter!(xn,yn,label=\"Measured\")\n",
    "    return measurements, measurementsTrue\n",
    "end\n",
    "\n",
    "noise = 30\n",
    "vnoise = 2\n",
    "dt = 1\n",
    "measurements = 100\n",
    "#ax,ay,x,y,vx,vy\n",
    "m1,m1T = generateKinematics( .1 , .1  ,0.0   ,60.0  ,0.0, 0.0,dt,measurements,noise,vnoise)\n",
    "m2,m2T = generateKinematics(-.1 , .1  ,400.0 ,400.0,0.0, 0.0,dt,measurements,noise,vnoise)\n",
    "m3,m3T = generateKinematics( .05, .05 ,20.0  ,30.0 ,0.0, 0.0,dt,measurements,noise,vnoise)\n",
    "m4,m4T = generateKinematics(  0 , .1  ,333   ,0.0  ,0.0, 0.0,dt,measurements,noise,vnoise)\n",
    "measurementsNoise = permutedims(cat(m1,m2,m3,m4,dims=3),[2,3,1])\n",
    "measurementsTrue = permutedims(cat(m1T,m2T,m3T,m4T,dims=3),[2,3,1])"
   ]
  },
  {
   "cell_type": "code",
   "execution_count": 83,
   "metadata": {},
   "outputs": [
    {
     "data": {
      "image/svg+xml": [
       "<?xml version=\"1.0\" encoding=\"utf-8\"?>\n",
       "<svg xmlns=\"http://www.w3.org/2000/svg\" xmlns:xlink=\"http://www.w3.org/1999/xlink\" width=\"600\" height=\"400\" viewBox=\"0 0 2400 1600\">\n",
       "<defs>\n",
       "  <clipPath id=\"clip0900\">\n",
       "    <rect x=\"0\" y=\"0\" width=\"2400\" height=\"1600\"/>\n",
       "  </clipPath>\n",
       "</defs>\n",
       "<path clip-path=\"url(#clip0900)\" d=\"\n",
       "M0 1600 L2400 1600 L2400 0 L0 0  Z\n",
       "  \" fill=\"#ffffff\" fill-rule=\"evenodd\" fill-opacity=\"1\"/>\n",
       "<defs>\n",
       "  <clipPath id=\"clip0901\">\n",
       "    <rect x=\"480\" y=\"0\" width=\"1681\" height=\"1600\"/>\n",
       "  </clipPath>\n",
       "</defs>\n",
       "<path clip-path=\"url(#clip0900)\" d=\"\n",
       "M167.279 1487.47 L2352.76 1487.47 L2352.76 47.2441 L167.279 47.2441  Z\n",
       "  \" fill=\"#ffffff\" fill-rule=\"evenodd\" fill-opacity=\"1\"/>\n",
       "<defs>\n",
       "  <clipPath id=\"clip0902\">\n",
       "    <rect x=\"167\" y=\"47\" width=\"2186\" height=\"1441\"/>\n",
       "  </clipPath>\n",
       "</defs>\n",
       "<polyline clip-path=\"url(#clip0902)\" style=\"stroke:#000000; stroke-width:2; stroke-opacity:0.1; fill:none\" points=\"\n",
       "  440.86,1487.47 440.86,47.2441 \n",
       "  \"/>\n",
       "<polyline clip-path=\"url(#clip0902)\" style=\"stroke:#000000; stroke-width:2; stroke-opacity:0.1; fill:none\" points=\"\n",
       "  850.439,1487.47 850.439,47.2441 \n",
       "  \"/>\n",
       "<polyline clip-path=\"url(#clip0902)\" style=\"stroke:#000000; stroke-width:2; stroke-opacity:0.1; fill:none\" points=\"\n",
       "  1260.02,1487.47 1260.02,47.2441 \n",
       "  \"/>\n",
       "<polyline clip-path=\"url(#clip0902)\" style=\"stroke:#000000; stroke-width:2; stroke-opacity:0.1; fill:none\" points=\"\n",
       "  1669.6,1487.47 1669.6,47.2441 \n",
       "  \"/>\n",
       "<polyline clip-path=\"url(#clip0902)\" style=\"stroke:#000000; stroke-width:2; stroke-opacity:0.1; fill:none\" points=\"\n",
       "  2079.18,1487.47 2079.18,47.2441 \n",
       "  \"/>\n",
       "<polyline clip-path=\"url(#clip0902)\" style=\"stroke:#000000; stroke-width:2; stroke-opacity:0.1; fill:none\" points=\"\n",
       "  167.279,1446.71 2352.76,1446.71 \n",
       "  \"/>\n",
       "<polyline clip-path=\"url(#clip0902)\" style=\"stroke:#000000; stroke-width:2; stroke-opacity:0.1; fill:none\" points=\"\n",
       "  167.279,1141.4 2352.76,1141.4 \n",
       "  \"/>\n",
       "<polyline clip-path=\"url(#clip0902)\" style=\"stroke:#000000; stroke-width:2; stroke-opacity:0.1; fill:none\" points=\"\n",
       "  167.279,836.092 2352.76,836.092 \n",
       "  \"/>\n",
       "<polyline clip-path=\"url(#clip0902)\" style=\"stroke:#000000; stroke-width:2; stroke-opacity:0.1; fill:none\" points=\"\n",
       "  167.279,530.782 2352.76,530.782 \n",
       "  \"/>\n",
       "<polyline clip-path=\"url(#clip0902)\" style=\"stroke:#000000; stroke-width:2; stroke-opacity:0.1; fill:none\" points=\"\n",
       "  167.279,225.471 2352.76,225.471 \n",
       "  \"/>\n",
       "<polyline clip-path=\"url(#clip0900)\" style=\"stroke:#000000; stroke-width:4; stroke-opacity:1; fill:none\" points=\"\n",
       "  167.279,1487.47 2352.76,1487.47 \n",
       "  \"/>\n",
       "<polyline clip-path=\"url(#clip0900)\" style=\"stroke:#000000; stroke-width:4; stroke-opacity:1; fill:none\" points=\"\n",
       "  167.279,1487.47 167.279,47.2441 \n",
       "  \"/>\n",
       "<polyline clip-path=\"url(#clip0900)\" style=\"stroke:#000000; stroke-width:4; stroke-opacity:1; fill:none\" points=\"\n",
       "  440.86,1487.47 440.86,1470.19 \n",
       "  \"/>\n",
       "<polyline clip-path=\"url(#clip0900)\" style=\"stroke:#000000; stroke-width:4; stroke-opacity:1; fill:none\" points=\"\n",
       "  850.439,1487.47 850.439,1470.19 \n",
       "  \"/>\n",
       "<polyline clip-path=\"url(#clip0900)\" style=\"stroke:#000000; stroke-width:4; stroke-opacity:1; fill:none\" points=\"\n",
       "  1260.02,1487.47 1260.02,1470.19 \n",
       "  \"/>\n",
       "<polyline clip-path=\"url(#clip0900)\" style=\"stroke:#000000; stroke-width:4; stroke-opacity:1; fill:none\" points=\"\n",
       "  1669.6,1487.47 1669.6,1470.19 \n",
       "  \"/>\n",
       "<polyline clip-path=\"url(#clip0900)\" style=\"stroke:#000000; stroke-width:4; stroke-opacity:1; fill:none\" points=\"\n",
       "  2079.18,1487.47 2079.18,1470.19 \n",
       "  \"/>\n",
       "<polyline clip-path=\"url(#clip0900)\" style=\"stroke:#000000; stroke-width:4; stroke-opacity:1; fill:none\" points=\"\n",
       "  167.279,1446.71 193.505,1446.71 \n",
       "  \"/>\n",
       "<polyline clip-path=\"url(#clip0900)\" style=\"stroke:#000000; stroke-width:4; stroke-opacity:1; fill:none\" points=\"\n",
       "  167.279,1141.4 193.505,1141.4 \n",
       "  \"/>\n",
       "<polyline clip-path=\"url(#clip0900)\" style=\"stroke:#000000; stroke-width:4; stroke-opacity:1; fill:none\" points=\"\n",
       "  167.279,836.092 193.505,836.092 \n",
       "  \"/>\n",
       "<polyline clip-path=\"url(#clip0900)\" style=\"stroke:#000000; stroke-width:4; stroke-opacity:1; fill:none\" points=\"\n",
       "  167.279,530.782 193.505,530.782 \n",
       "  \"/>\n",
       "<polyline clip-path=\"url(#clip0900)\" style=\"stroke:#000000; stroke-width:4; stroke-opacity:1; fill:none\" points=\"\n",
       "  167.279,225.471 193.505,225.471 \n",
       "  \"/>\n",
       "<g clip-path=\"url(#clip0900)\">\n",
       "<text style=\"fill:#000000; fill-opacity:1; font-family:Arial,Helvetica Neue,Helvetica,sans-serif; font-size:48px; text-anchor:middle;\" transform=\"rotate(0, 440.86, 1541.47)\" x=\"440.86\" y=\"1541.47\">-200</text>\n",
       "</g>\n",
       "<g clip-path=\"url(#clip0900)\">\n",
       "<text style=\"fill:#000000; fill-opacity:1; font-family:Arial,Helvetica Neue,Helvetica,sans-serif; font-size:48px; text-anchor:middle;\" transform=\"rotate(0, 850.439, 1541.47)\" x=\"850.439\" y=\"1541.47\">0</text>\n",
       "</g>\n",
       "<g clip-path=\"url(#clip0900)\">\n",
       "<text style=\"fill:#000000; fill-opacity:1; font-family:Arial,Helvetica Neue,Helvetica,sans-serif; font-size:48px; text-anchor:middle;\" transform=\"rotate(0, 1260.02, 1541.47)\" x=\"1260.02\" y=\"1541.47\">200</text>\n",
       "</g>\n",
       "<g clip-path=\"url(#clip0900)\">\n",
       "<text style=\"fill:#000000; fill-opacity:1; font-family:Arial,Helvetica Neue,Helvetica,sans-serif; font-size:48px; text-anchor:middle;\" transform=\"rotate(0, 1669.6, 1541.47)\" x=\"1669.6\" y=\"1541.47\">400</text>\n",
       "</g>\n",
       "<g clip-path=\"url(#clip0900)\">\n",
       "<text style=\"fill:#000000; fill-opacity:1; font-family:Arial,Helvetica Neue,Helvetica,sans-serif; font-size:48px; text-anchor:middle;\" transform=\"rotate(0, 2079.18, 1541.47)\" x=\"2079.18\" y=\"1541.47\">600</text>\n",
       "</g>\n",
       "<g clip-path=\"url(#clip0900)\">\n",
       "<text style=\"fill:#000000; fill-opacity:1; font-family:Arial,Helvetica Neue,Helvetica,sans-serif; font-size:48px; text-anchor:end;\" transform=\"rotate(0, 143.279, 1464.21)\" x=\"143.279\" y=\"1464.21\">0</text>\n",
       "</g>\n",
       "<g clip-path=\"url(#clip0900)\">\n",
       "<text style=\"fill:#000000; fill-opacity:1; font-family:Arial,Helvetica Neue,Helvetica,sans-serif; font-size:48px; text-anchor:end;\" transform=\"rotate(0, 143.279, 1158.9)\" x=\"143.279\" y=\"1158.9\">200</text>\n",
       "</g>\n",
       "<g clip-path=\"url(#clip0900)\">\n",
       "<text style=\"fill:#000000; fill-opacity:1; font-family:Arial,Helvetica Neue,Helvetica,sans-serif; font-size:48px; text-anchor:end;\" transform=\"rotate(0, 143.279, 853.592)\" x=\"143.279\" y=\"853.592\">400</text>\n",
       "</g>\n",
       "<g clip-path=\"url(#clip0900)\">\n",
       "<text style=\"fill:#000000; fill-opacity:1; font-family:Arial,Helvetica Neue,Helvetica,sans-serif; font-size:48px; text-anchor:end;\" transform=\"rotate(0, 143.279, 548.282)\" x=\"143.279\" y=\"548.282\">600</text>\n",
       "</g>\n",
       "<g clip-path=\"url(#clip0900)\">\n",
       "<text style=\"fill:#000000; fill-opacity:1; font-family:Arial,Helvetica Neue,Helvetica,sans-serif; font-size:48px; text-anchor:end;\" transform=\"rotate(0, 143.279, 242.971)\" x=\"143.279\" y=\"242.971\">800</text>\n",
       "</g>\n",
       "<polyline clip-path=\"url(#clip0902)\" style=\"stroke:#009af9; stroke-width:4; stroke-opacity:1; fill:none\" points=\"\n",
       "  850.439,1355.12 850.542,1355.04 850.853,1354.82 851.375,1354.43 852.108,1353.9 853.055,1353.21 854.219,1352.37 855.601,1351.38 857.204,1350.24 859.03,1348.94 \n",
       "  861.081,1347.49 863.359,1345.88 865.867,1344.13 868.607,1342.22 871.581,1340.16 874.791,1337.95 878.241,1335.58 881.932,1333.06 885.866,1330.39 890.047,1327.57 \n",
       "  894.476,1324.59 899.157,1321.46 904.091,1318.18 909.281,1314.74 914.731,1311.16 920.441,1307.42 926.415,1303.52 932.656,1299.48 939.167,1295.28 945.949,1290.93 \n",
       "  953.005,1286.43 960.34,1281.77 967.954,1276.96 975.851,1272 984.035,1266.89 992.506,1261.62 1001.27,1256.2 1010.33,1250.63 1019.68,1244.9 1029.34,1239.03 \n",
       "  1039.3,1233 1049.56,1226.81 1060.14,1220.48 1071.03,1213.99 1082.23,1207.35 1093.75,1200.56 1105.6,1193.61 1117.77,1186.51 1130.26,1179.26 1143.09,1171.86 \n",
       "  1156.26,1164.3 1169.76,1156.59 1183.61,1148.73 1197.8,1140.72 1212.34,1132.55 1227.23,1124.23 1242.48,1115.76 1258.08,1107.13 1274.05,1098.35 1290.39,1089.42 \n",
       "  1307.09,1080.34 1324.17,1071.11 1341.63,1061.72 1359.47,1052.18 1377.7,1042.48 1396.31,1032.64 1415.32,1022.64 1434.72,1012.49 1454.52,1002.18 1474.73,991.724 \n",
       "  1495.35,981.115 1516.38,970.353 1537.83,959.438 1559.7,948.37 1582,937.15 1604.72,925.777 1627.88,914.252 1651.48,902.574 1675.52,890.743 1700.01,878.76 \n",
       "  1724.94,866.623 1750.34,854.335 1776.2,841.893 1802.52,829.299 1829.31,816.553 1856.58,803.653 1884.32,790.601 1912.55,777.396 1941.27,764.039 1970.49,750.529 \n",
       "  2000.2,736.867 2030.41,723.051 2061.14,709.083 2092.38,694.963 2124.14,680.689 2156.42,666.263 2189.23,651.685 2222.58,636.954 2256.47,622.07 2290.9,607.033 \n",
       "  \n",
       "  \"/>\n",
       "<polyline clip-path=\"url(#clip0902)\" style=\"stroke:#e26f46; stroke-width:4; stroke-opacity:1; fill:none\" points=\"\n",
       "  1669.6,836.092 1669.49,836.016 1669.18,835.787 1668.66,835.405 1667.93,834.871 1666.98,834.184 1665.82,833.345 1664.43,832.352 1662.83,831.207 1661.01,829.91 \n",
       "  1658.95,828.46 1656.68,826.857 1654.17,825.101 1651.43,823.193 1648.45,821.132 1645.24,818.919 1641.79,816.553 1638.1,814.034 1634.17,811.362 1629.99,808.538 \n",
       "  1625.56,805.561 1620.88,802.432 1615.94,799.15 1610.75,795.715 1605.3,792.128 1599.59,788.388 1593.62,784.495 1587.38,780.45 1580.87,776.252 1574.09,771.901 \n",
       "  1567.03,767.398 1559.7,762.742 1552.08,757.933 1544.18,752.972 1536,747.858 1527.53,742.591 1518.77,737.172 1509.71,731.6 1500.35,725.875 1490.7,719.998 \n",
       "  1480.74,713.968 1470.47,707.786 1459.9,701.451 1449.01,694.963 1437.81,688.322 1426.28,681.529 1414.44,674.583 1402.27,667.485 1389.77,660.234 1376.94,652.83 \n",
       "  1363.78,645.273 1350.27,637.564 1336.43,629.703 1322.24,621.688 1307.7,613.521 1292.81,605.201 1277.56,596.729 1261.95,588.104 1245.98,579.326 1229.65,570.396 \n",
       "  1212.94,561.313 1195.86,552.077 1178.4,542.689 1160.56,533.148 1142.34,523.454 1123.73,513.608 1104.72,503.609 1085.32,493.458 1065.51,483.153 1045.3,472.697 \n",
       "  1024.68,462.087 1003.65,451.325 982.204,440.41 960.334,429.343 938.039,418.122 915.314,406.75 892.155,395.224 868.558,383.546 844.517,371.715 820.03,359.732 \n",
       "  795.091,347.596 769.695,335.307 743.839,322.865 717.517,310.271 690.726,297.525 663.459,284.625 635.713,271.573 607.483,258.369 578.763,245.011 549.55,231.501 \n",
       "  519.838,217.839 489.621,204.023 458.896,190.055 427.656,175.935 395.898,161.662 363.615,147.236 330.802,132.657 297.454,117.926 263.566,103.042 229.132,88.0053 \n",
       "  \n",
       "  \"/>\n",
       "<polyline clip-path=\"url(#clip0902)\" style=\"stroke:#3da44d; stroke-width:4; stroke-opacity:1; fill:none\" points=\"\n",
       "  891.397,1400.92 891.448,1400.88 891.604,1400.76 891.865,1400.57 892.231,1400.31 892.705,1399.96 893.287,1399.54 893.978,1399.05 894.779,1398.47 895.692,1397.83 \n",
       "  896.718,1397.1 897.857,1396.3 899.111,1395.42 900.481,1394.47 901.968,1393.44 903.573,1392.33 905.298,1391.15 907.143,1389.89 909.11,1388.55 911.201,1387.14 \n",
       "  913.415,1385.65 915.756,1384.09 918.223,1382.45 920.818,1380.73 923.542,1378.93 926.398,1377.06 929.385,1375.12 932.505,1373.1 935.76,1371 939.152,1368.82 \n",
       "  942.68,1366.57 946.347,1364.24 950.154,1361.84 954.103,1359.36 958.195,1356.8 962.43,1354.17 966.812,1351.46 971.341,1348.67 976.019,1345.81 980.847,1342.87 \n",
       "  985.826,1339.85 990.959,1336.76 996.246,1333.6 1001.69,1330.35 1007.29,1327.03 1013.05,1323.64 1018.97,1320.16 1025.06,1316.61 1031.31,1312.99 1037.72,1309.29 \n",
       "  1044.31,1305.51 1051.06,1301.65 1057.98,1297.72 1065.08,1293.71 1072.35,1289.63 1079.79,1285.47 1087.42,1281.24 1095.22,1276.92 1103.2,1272.53 1111.37,1268.07 \n",
       "  1119.72,1263.53 1128.26,1258.91 1136.99,1254.22 1145.91,1249.44 1155.03,1244.6 1164.33,1239.67 1173.84,1234.68 1183.54,1229.6 1193.44,1224.45 1203.54,1219.22 \n",
       "  1213.85,1213.91 1224.37,1208.53 1235.09,1203.08 1246.03,1197.54 1257.18,1191.93 1268.54,1186.25 1280.12,1180.48 1291.92,1174.64 1303.94,1168.73 1316.18,1162.74 \n",
       "  1328.65,1156.67 1341.35,1150.52 1354.28,1144.3 1367.44,1138.01 1380.83,1131.63 1394.47,1125.18 1408.34,1118.66 1422.45,1112.05 1436.81,1105.38 1451.42,1098.62 \n",
       "  1466.28,1091.79 1481.38,1084.88 1496.75,1077.9 1512.37,1070.84 1528.25,1063.7 1544.39,1056.49 1560.79,1049.2 1577.47,1041.83 1594.41,1034.39 1611.63,1026.87 \n",
       "  \n",
       "  \"/>\n",
       "<polyline clip-path=\"url(#clip0902)\" style=\"stroke:#c271d2; stroke-width:4; stroke-opacity:1; fill:none\" points=\"\n",
       "  1532.39,1446.71 1532.39,1446.64 1532.39,1446.41 1532.39,1446.03 1532.39,1445.49 1532.39,1444.81 1532.39,1443.97 1532.39,1442.97 1532.39,1441.83 1532.39,1440.53 \n",
       "  1532.39,1439.08 1532.39,1437.48 1532.39,1435.72 1532.39,1433.81 1532.39,1431.75 1532.39,1429.54 1532.39,1427.17 1532.39,1424.65 1532.39,1421.98 1532.39,1419.16 \n",
       "  1532.39,1416.18 1532.39,1413.05 1532.39,1409.77 1532.39,1406.34 1532.39,1402.75 1532.39,1399.01 1532.39,1395.12 1532.39,1391.07 1532.39,1386.87 1532.39,1382.52 \n",
       "  1532.39,1378.02 1532.39,1373.36 1532.39,1368.55 1532.39,1363.59 1532.39,1358.48 1532.39,1353.21 1532.39,1347.79 1532.39,1342.22 1532.39,1336.5 1532.39,1330.62 \n",
       "  1532.39,1324.59 1532.39,1318.41 1532.39,1312.07 1532.39,1305.58 1532.39,1298.94 1532.39,1292.15 1532.39,1285.2 1532.39,1278.11 1532.39,1270.85 1532.39,1263.45 \n",
       "  1532.39,1255.89 1532.39,1248.19 1532.39,1240.32 1532.39,1232.31 1532.39,1224.14 1532.39,1215.82 1532.39,1207.35 1532.39,1198.73 1532.39,1189.95 1532.39,1181.02 \n",
       "  1532.39,1171.93 1532.39,1162.7 1532.39,1153.31 1532.39,1143.77 1532.39,1134.08 1532.39,1124.23 1532.39,1114.23 1532.39,1104.08 1532.39,1093.77 1532.39,1083.32 \n",
       "  1532.39,1072.71 1532.39,1061.95 1532.39,1051.03 1532.39,1039.96 1532.39,1028.74 1532.39,1017.37 1532.39,1005.85 1532.39,994.167 1532.39,982.336 1532.39,970.353 \n",
       "  1532.39,958.217 1532.39,945.928 1532.39,933.486 1532.39,920.892 1532.39,908.146 1532.39,895.246 1532.39,882.194 1532.39,868.99 1532.39,855.632 1532.39,842.122 \n",
       "  1532.39,828.46 1532.39,814.644 1532.39,800.676 1532.39,786.556 1532.39,772.283 1532.39,757.857 1532.39,743.278 1532.39,728.547 1532.39,713.663 1532.39,698.626 \n",
       "  \n",
       "  \"/>\n",
       "<path clip-path=\"url(#clip0900)\" d=\"\n",
       "M1989.93 433.164 L2280.76 433.164 L2280.76 130.764 L1989.93 130.764  Z\n",
       "  \" fill=\"#ffffff\" fill-rule=\"evenodd\" fill-opacity=\"1\"/>\n",
       "<polyline clip-path=\"url(#clip0900)\" style=\"stroke:#000000; stroke-width:4; stroke-opacity:1; fill:none\" points=\"\n",
       "  1989.93,433.164 2280.76,433.164 2280.76,130.764 1989.93,130.764 1989.93,433.164 \n",
       "  \"/>\n",
       "<polyline clip-path=\"url(#clip0900)\" style=\"stroke:#009af9; stroke-width:4; stroke-opacity:1; fill:none\" points=\"\n",
       "  2013.93,191.244 2157.93,191.244 \n",
       "  \"/>\n",
       "<g clip-path=\"url(#clip0900)\">\n",
       "<text style=\"fill:#000000; fill-opacity:1; font-family:Arial,Helvetica Neue,Helvetica,sans-serif; font-size:48px; text-anchor:start;\" transform=\"rotate(0, 2181.93, 208.744)\" x=\"2181.93\" y=\"208.744\">y1</text>\n",
       "</g>\n",
       "<polyline clip-path=\"url(#clip0900)\" style=\"stroke:#e26f46; stroke-width:4; stroke-opacity:1; fill:none\" points=\"\n",
       "  2013.93,251.724 2157.93,251.724 \n",
       "  \"/>\n",
       "<g clip-path=\"url(#clip0900)\">\n",
       "<text style=\"fill:#000000; fill-opacity:1; font-family:Arial,Helvetica Neue,Helvetica,sans-serif; font-size:48px; text-anchor:start;\" transform=\"rotate(0, 2181.93, 269.224)\" x=\"2181.93\" y=\"269.224\">y2</text>\n",
       "</g>\n",
       "<polyline clip-path=\"url(#clip0900)\" style=\"stroke:#3da44d; stroke-width:4; stroke-opacity:1; fill:none\" points=\"\n",
       "  2013.93,312.204 2157.93,312.204 \n",
       "  \"/>\n",
       "<g clip-path=\"url(#clip0900)\">\n",
       "<text style=\"fill:#000000; fill-opacity:1; font-family:Arial,Helvetica Neue,Helvetica,sans-serif; font-size:48px; text-anchor:start;\" transform=\"rotate(0, 2181.93, 329.704)\" x=\"2181.93\" y=\"329.704\">y3</text>\n",
       "</g>\n",
       "<polyline clip-path=\"url(#clip0900)\" style=\"stroke:#c271d2; stroke-width:4; stroke-opacity:1; fill:none\" points=\"\n",
       "  2013.93,372.684 2157.93,372.684 \n",
       "  \"/>\n",
       "<g clip-path=\"url(#clip0900)\">\n",
       "<text style=\"fill:#000000; fill-opacity:1; font-family:Arial,Helvetica Neue,Helvetica,sans-serif; font-size:48px; text-anchor:start;\" transform=\"rotate(0, 2181.93, 390.184)\" x=\"2181.93\" y=\"390.184\">y4</text>\n",
       "</g>\n",
       "</svg>\n"
      ]
     },
     "execution_count": 83,
     "metadata": {},
     "output_type": "execute_result"
    }
   ],
   "source": [
    "plot(measurementsTrue[1,1,:],measurementsTrue[2,1,:])\n",
    "plot!(measurementsTrue[1,2,:],measurementsTrue[2,2,:])\n",
    "plot!(measurementsTrue[1,3,:],measurementsTrue[2,3,:])\n",
    "plot!(measurementsTrue[1,4,:],measurementsTrue[2,4,:])"
   ]
  },
  {
   "cell_type": "code",
   "execution_count": 84,
   "metadata": {},
   "outputs": [
    {
     "data": {
      "image/svg+xml": [
       "<?xml version=\"1.0\" encoding=\"utf-8\"?>\n",
       "<svg xmlns=\"http://www.w3.org/2000/svg\" xmlns:xlink=\"http://www.w3.org/1999/xlink\" width=\"600\" height=\"400\" viewBox=\"0 0 2400 1600\">\n",
       "<defs>\n",
       "  <clipPath id=\"clip1300\">\n",
       "    <rect x=\"0\" y=\"0\" width=\"2400\" height=\"1600\"/>\n",
       "  </clipPath>\n",
       "</defs>\n",
       "<path clip-path=\"url(#clip1300)\" d=\"\n",
       "M0 1600 L2400 1600 L2400 0 L0 0  Z\n",
       "  \" fill=\"#ffffff\" fill-rule=\"evenodd\" fill-opacity=\"1\"/>\n",
       "<defs>\n",
       "  <clipPath id=\"clip1301\">\n",
       "    <rect x=\"480\" y=\"0\" width=\"1681\" height=\"1600\"/>\n",
       "  </clipPath>\n",
       "</defs>\n",
       "<path clip-path=\"url(#clip1300)\" d=\"\n",
       "M167.279 1487.47 L2352.76 1487.47 L2352.76 47.2441 L167.279 47.2441  Z\n",
       "  \" fill=\"#ffffff\" fill-rule=\"evenodd\" fill-opacity=\"1\"/>\n",
       "<defs>\n",
       "  <clipPath id=\"clip1302\">\n",
       "    <rect x=\"167\" y=\"47\" width=\"2186\" height=\"1441\"/>\n",
       "  </clipPath>\n",
       "</defs>\n",
       "<polyline clip-path=\"url(#clip1302)\" style=\"stroke:#000000; stroke-width:2; stroke-opacity:0.1; fill:none\" points=\"\n",
       "  445.088,1487.47 445.088,47.2441 \n",
       "  \"/>\n",
       "<polyline clip-path=\"url(#clip1302)\" style=\"stroke:#000000; stroke-width:2; stroke-opacity:0.1; fill:none\" points=\"\n",
       "  852.359,1487.47 852.359,47.2441 \n",
       "  \"/>\n",
       "<polyline clip-path=\"url(#clip1302)\" style=\"stroke:#000000; stroke-width:2; stroke-opacity:0.1; fill:none\" points=\"\n",
       "  1259.63,1487.47 1259.63,47.2441 \n",
       "  \"/>\n",
       "<polyline clip-path=\"url(#clip1302)\" style=\"stroke:#000000; stroke-width:2; stroke-opacity:0.1; fill:none\" points=\"\n",
       "  1666.9,1487.47 1666.9,47.2441 \n",
       "  \"/>\n",
       "<polyline clip-path=\"url(#clip1302)\" style=\"stroke:#000000; stroke-width:2; stroke-opacity:0.1; fill:none\" points=\"\n",
       "  2074.17,1487.47 2074.17,47.2441 \n",
       "  \"/>\n",
       "<polyline clip-path=\"url(#clip1302)\" style=\"stroke:#000000; stroke-width:2; stroke-opacity:0.1; fill:none\" points=\"\n",
       "  167.279,1433.25 2352.76,1433.25 \n",
       "  \"/>\n",
       "<polyline clip-path=\"url(#clip1302)\" style=\"stroke:#000000; stroke-width:2; stroke-opacity:0.1; fill:none\" points=\"\n",
       "  167.279,1134.67 2352.76,1134.67 \n",
       "  \"/>\n",
       "<polyline clip-path=\"url(#clip1302)\" style=\"stroke:#000000; stroke-width:2; stroke-opacity:0.1; fill:none\" points=\"\n",
       "  167.279,836.091 2352.76,836.091 \n",
       "  \"/>\n",
       "<polyline clip-path=\"url(#clip1302)\" style=\"stroke:#000000; stroke-width:2; stroke-opacity:0.1; fill:none\" points=\"\n",
       "  167.279,537.512 2352.76,537.512 \n",
       "  \"/>\n",
       "<polyline clip-path=\"url(#clip1302)\" style=\"stroke:#000000; stroke-width:2; stroke-opacity:0.1; fill:none\" points=\"\n",
       "  167.279,238.933 2352.76,238.933 \n",
       "  \"/>\n",
       "<polyline clip-path=\"url(#clip1300)\" style=\"stroke:#000000; stroke-width:4; stroke-opacity:1; fill:none\" points=\"\n",
       "  167.279,1487.47 2352.76,1487.47 \n",
       "  \"/>\n",
       "<polyline clip-path=\"url(#clip1300)\" style=\"stroke:#000000; stroke-width:4; stroke-opacity:1; fill:none\" points=\"\n",
       "  167.279,1487.47 167.279,47.2441 \n",
       "  \"/>\n",
       "<polyline clip-path=\"url(#clip1300)\" style=\"stroke:#000000; stroke-width:4; stroke-opacity:1; fill:none\" points=\"\n",
       "  445.088,1487.47 445.088,1470.19 \n",
       "  \"/>\n",
       "<polyline clip-path=\"url(#clip1300)\" style=\"stroke:#000000; stroke-width:4; stroke-opacity:1; fill:none\" points=\"\n",
       "  852.359,1487.47 852.359,1470.19 \n",
       "  \"/>\n",
       "<polyline clip-path=\"url(#clip1300)\" style=\"stroke:#000000; stroke-width:4; stroke-opacity:1; fill:none\" points=\"\n",
       "  1259.63,1487.47 1259.63,1470.19 \n",
       "  \"/>\n",
       "<polyline clip-path=\"url(#clip1300)\" style=\"stroke:#000000; stroke-width:4; stroke-opacity:1; fill:none\" points=\"\n",
       "  1666.9,1487.47 1666.9,1470.19 \n",
       "  \"/>\n",
       "<polyline clip-path=\"url(#clip1300)\" style=\"stroke:#000000; stroke-width:4; stroke-opacity:1; fill:none\" points=\"\n",
       "  2074.17,1487.47 2074.17,1470.19 \n",
       "  \"/>\n",
       "<polyline clip-path=\"url(#clip1300)\" style=\"stroke:#000000; stroke-width:4; stroke-opacity:1; fill:none\" points=\"\n",
       "  167.279,1433.25 193.505,1433.25 \n",
       "  \"/>\n",
       "<polyline clip-path=\"url(#clip1300)\" style=\"stroke:#000000; stroke-width:4; stroke-opacity:1; fill:none\" points=\"\n",
       "  167.279,1134.67 193.505,1134.67 \n",
       "  \"/>\n",
       "<polyline clip-path=\"url(#clip1300)\" style=\"stroke:#000000; stroke-width:4; stroke-opacity:1; fill:none\" points=\"\n",
       "  167.279,836.091 193.505,836.091 \n",
       "  \"/>\n",
       "<polyline clip-path=\"url(#clip1300)\" style=\"stroke:#000000; stroke-width:4; stroke-opacity:1; fill:none\" points=\"\n",
       "  167.279,537.512 193.505,537.512 \n",
       "  \"/>\n",
       "<polyline clip-path=\"url(#clip1300)\" style=\"stroke:#000000; stroke-width:4; stroke-opacity:1; fill:none\" points=\"\n",
       "  167.279,238.933 193.505,238.933 \n",
       "  \"/>\n",
       "<g clip-path=\"url(#clip1300)\">\n",
       "<text style=\"fill:#000000; fill-opacity:1; font-family:Arial,Helvetica Neue,Helvetica,sans-serif; font-size:48px; text-anchor:middle;\" transform=\"rotate(0, 445.088, 1541.47)\" x=\"445.088\" y=\"1541.47\">-200</text>\n",
       "</g>\n",
       "<g clip-path=\"url(#clip1300)\">\n",
       "<text style=\"fill:#000000; fill-opacity:1; font-family:Arial,Helvetica Neue,Helvetica,sans-serif; font-size:48px; text-anchor:middle;\" transform=\"rotate(0, 852.359, 1541.47)\" x=\"852.359\" y=\"1541.47\">0</text>\n",
       "</g>\n",
       "<g clip-path=\"url(#clip1300)\">\n",
       "<text style=\"fill:#000000; fill-opacity:1; font-family:Arial,Helvetica Neue,Helvetica,sans-serif; font-size:48px; text-anchor:middle;\" transform=\"rotate(0, 1259.63, 1541.47)\" x=\"1259.63\" y=\"1541.47\">200</text>\n",
       "</g>\n",
       "<g clip-path=\"url(#clip1300)\">\n",
       "<text style=\"fill:#000000; fill-opacity:1; font-family:Arial,Helvetica Neue,Helvetica,sans-serif; font-size:48px; text-anchor:middle;\" transform=\"rotate(0, 1666.9, 1541.47)\" x=\"1666.9\" y=\"1541.47\">400</text>\n",
       "</g>\n",
       "<g clip-path=\"url(#clip1300)\">\n",
       "<text style=\"fill:#000000; fill-opacity:1; font-family:Arial,Helvetica Neue,Helvetica,sans-serif; font-size:48px; text-anchor:middle;\" transform=\"rotate(0, 2074.17, 1541.47)\" x=\"2074.17\" y=\"1541.47\">600</text>\n",
       "</g>\n",
       "<g clip-path=\"url(#clip1300)\">\n",
       "<text style=\"fill:#000000; fill-opacity:1; font-family:Arial,Helvetica Neue,Helvetica,sans-serif; font-size:48px; text-anchor:end;\" transform=\"rotate(0, 143.279, 1450.75)\" x=\"143.279\" y=\"1450.75\">0</text>\n",
       "</g>\n",
       "<g clip-path=\"url(#clip1300)\">\n",
       "<text style=\"fill:#000000; fill-opacity:1; font-family:Arial,Helvetica Neue,Helvetica,sans-serif; font-size:48px; text-anchor:end;\" transform=\"rotate(0, 143.279, 1152.17)\" x=\"143.279\" y=\"1152.17\">200</text>\n",
       "</g>\n",
       "<g clip-path=\"url(#clip1300)\">\n",
       "<text style=\"fill:#000000; fill-opacity:1; font-family:Arial,Helvetica Neue,Helvetica,sans-serif; font-size:48px; text-anchor:end;\" transform=\"rotate(0, 143.279, 853.591)\" x=\"143.279\" y=\"853.591\">400</text>\n",
       "</g>\n",
       "<g clip-path=\"url(#clip1300)\">\n",
       "<text style=\"fill:#000000; fill-opacity:1; font-family:Arial,Helvetica Neue,Helvetica,sans-serif; font-size:48px; text-anchor:end;\" transform=\"rotate(0, 143.279, 555.012)\" x=\"143.279\" y=\"555.012\">600</text>\n",
       "</g>\n",
       "<g clip-path=\"url(#clip1300)\">\n",
       "<text style=\"fill:#000000; fill-opacity:1; font-family:Arial,Helvetica Neue,Helvetica,sans-serif; font-size:48px; text-anchor:end;\" transform=\"rotate(0, 143.279, 256.433)\" x=\"143.279\" y=\"256.433\">800</text>\n",
       "</g>\n",
       "<polyline clip-path=\"url(#clip1302)\" style=\"stroke:#009af9; stroke-width:4; stroke-opacity:1; fill:none\" points=\"\n",
       "  875.249,1361.5 833.287,1357.91 842.158,1323.12 843.584,1358.48 865.15,1324 836.042,1328.4 846.404,1329.89 880.114,1355.05 858.432,1319.87 868.871,1328.64 \n",
       "  878.34,1358.5 835.489,1344.53 867.838,1346.2 881.672,1319.18 890.847,1312.84 856.68,1337.02 861.019,1308.22 878.114,1340 905.528,1331.39 867.594,1313.02 \n",
       "  884.332,1312.89 908.276,1303.05 884.066,1286.41 938.413,1298.85 939.392,1296.48 940.974,1294.05 952.536,1274.1 907.317,1267.12 968.218,1273.91 934.539,1278.35 \n",
       "  976.19,1254.71 949.641,1257.39 956.332,1262.73 948.907,1251.61 998.806,1256.18 969.593,1258.25 1010.92,1235.36 1013.27,1254.2 998.583,1251.86 1005.21,1246.01 \n",
       "  1054.74,1236.67 1022.68,1196.99 1086.27,1196.27 1086.59,1188.18 1098.49,1202.93 1089.72,1187.82 1107.26,1204.48 1094.42,1173.85 1106.91,1152.99 1169.22,1165.68 \n",
       "  1129.98,1174.33 1188.83,1163.18 1177.92,1122.67 1203.4,1128.57 1183.21,1135.26 1215.84,1135.39 1229.83,1120.83 1233.59,1109.82 1263.85,1105.81 1288.51,1102.66 \n",
       "  1317.13,1094.8 1326.82,1049 1367.92,1061.73 1352.27,1063.35 1382.12,1023.33 1374,1038.15 1441.41,1028.94 1449.27,986.697 1461,985.787 1444.05,997.795 \n",
       "  1519,999.945 1506.93,982.315 1538.18,943.12 1580.26,936.938 1582.46,957.213 1621.2,934.644 1595.72,929.903 1675.56,906.518 1656.59,899.082 1671.64,891.867 \n",
       "  1726.84,853.347 1726.66,872.454 1780.28,847.01 1817.61,827.782 1797.29,808.048 1878.66,816.651 1905,809.333 1896.96,771.817 1949.85,759.513 1953.55,758.919 \n",
       "  1981.46,718.196 2032.31,711.938 2074.71,694.218 2110.1,694.837 2141.85,679.94 2158.62,659.454 2193.99,636.692 2193.34,659.048 2242.4,640.048 2290.9,605.952 \n",
       "  \n",
       "  \"/>\n",
       "<polyline clip-path=\"url(#clip1302)\" style=\"stroke:#e26f46; stroke-width:4; stroke-opacity:1; fill:none\" points=\"\n",
       "  1668.37,844.706 1645.2,816.507 1691.72,854.751 1685.79,855.106 1636.66,851.764 1685.13,841.8 1649.67,825.027 1679.5,837.042 1664.29,848.898 1649.55,839.93 \n",
       "  1642.2,848.909 1667.71,825.249 1675.2,824.273 1654.62,832.395 1654.04,805.461 1659.45,825.38 1657.27,825.132 1606.71,793.744 1653.51,801.674 1656.73,818.347 \n",
       "  1630.48,805.08 1645.14,814.926 1616.45,784.699 1627.39,788.986 1610.01,778.044 1567.06,792.63 1580.91,803.365 1613.57,801.035 1582.97,760.769 1568.79,767.562 \n",
       "  1560.64,789.674 1564.66,756.538 1571.73,753.668 1553.17,741.123 1551.61,744.951 1522.93,758.648 1544.51,751.056 1484.05,739.927 1511.62,721.743 1517.15,725.876 \n",
       "  1474.96,700.204 1468.34,711.886 1439.05,682.373 1474.65,683.124 1419.16,675.255 1447.99,691.093 1394.39,663.463 1374.11,685.066 1360.43,664.632 1382.93,676.459 \n",
       "  1382.86,667.723 1376.96,659.933 1352.05,627.999 1337.89,646.186 1316.48,627.553 1293.07,617.889 1284.13,610.866 1251.12,615.709 1219.39,563.632 1246.31,559.088 \n",
       "  1232.65,556.995 1176,549.881 1189.34,541.789 1187.94,519.625 1166.2,521.78 1140.57,520.768 1088.68,499.051 1070.36,480.306 1065.35,506.547 1053.37,466.236 \n",
       "  1018.29,450.55 1008.85,470.76 978.578,429.867 982.27,447.343 969.348,414.734 925.917,410.778 870.707,415.661 843.914,394.38 851.922,361.025 838.279,369.465 \n",
       "  821.277,360.631 799.449,347.005 769.202,322.974 749.415,333.126 680.468,328.869 636.244,296.822 664.019,276.257 611.758,284.746 566.228,248.075 556.548,265.761 \n",
       "  514.477,225.223 497.397,208.357 446.539,226.301 452.317,200.19 428.817,176.58 371.523,169.097 345.081,146.97 282.225,152.122 271.68,126.279 229.132,88.0053 \n",
       "  \n",
       "  \"/>\n",
       "<polyline clip-path=\"url(#clip1302)\" style=\"stroke:#3da44d; stroke-width:4; stroke-opacity:1; fill:none\" points=\"\n",
       "  891.229,1369.2 894.06,1408.48 899.43,1404.46 922.419,1369.1 917.416,1375.3 884.008,1374.48 875.061,1398.96 882.609,1373.78 896.348,1375.7 908.114,1384.44 \n",
       "  926.887,1398.02 911.529,1384.76 883.465,1398.61 927.676,1385 917.711,1370.09 898.997,1365.84 876.523,1363.88 893.443,1399.76 904.725,1372.65 923.227,1372.45 \n",
       "  892.664,1384.96 928.654,1389.18 928.601,1370.69 934.745,1346.57 955.037,1345.46 912.904,1355.09 910.888,1359.13 929.833,1355.4 957.62,1336.93 936.891,1361.86 \n",
       "  922.411,1366.67 976.351,1353.62 940.061,1353.85 968.29,1329.07 978.125,1366.35 941.581,1339.55 986.329,1331.41 983.854,1325.14 989.025,1314.88 964.358,1344.71 \n",
       "  959.734,1333.65 989.851,1309.59 976.478,1338.1 973.589,1324.58 1001.38,1300.96 1038.73,1321.49 999.376,1319.04 1044.85,1313.6 1007.99,1283.66 1020.17,1296.64 \n",
       "  1050.32,1283.11 1030.73,1302.63 1030,1277.58 1082.09,1265.53 1065.08,1285.48 1080.91,1265.56 1093.44,1271.14 1093.37,1287.16 1075.48,1242.41 1082.69,1241.04 \n",
       "  1120.56,1249.49 1135.61,1235.14 1134.87,1259.57 1138.17,1261.34 1130.21,1257.96 1145.09,1211.47 1192.68,1209.92 1186.06,1242 1182.34,1230.57 1227.69,1208.5 \n",
       "  1229.4,1211.68 1234.5,1192.5 1223.43,1174.96 1268.7,1186.21 1242.9,1204.49 1280.59,1189.32 1251.79,1174.34 1312.13,1187.96 1312.7,1174.59 1294.04,1166.32 \n",
       "  1329.63,1146.76 1332.2,1132.94 1370.62,1129.44 1339.84,1126.49 1390,1106.2 1371.5,1113.81 1430.15,1093.33 1404.26,1085.8 1453.64,1091.31 1454.08,1086.14 \n",
       "  1445.04,1080.95 1483.9,1097.79 1479.11,1090.43 1523.39,1070.04 1552.62,1080.09 1555.25,1061.54 1530.43,1057.77 1598.38,1049.78 1593.04,1049.1 1639.57,1001.14 \n",
       "  \n",
       "  \"/>\n",
       "<polyline clip-path=\"url(#clip1302)\" style=\"stroke:#c271d2; stroke-width:4; stroke-opacity:1; fill:none\" points=\"\n",
       "  1540.96,1419.15 1529.25,1430.35 1535.59,1436.39 1503.99,1440.59 1543.59,1423.35 1535.99,1444.45 1532.93,1437.38 1516.15,1446.71 1516.67,1432.69 1512.46,1446.5 \n",
       "  1531.9,1407.14 1529.89,1437.19 1511.16,1419.64 1546.31,1399.74 1558.2,1408.95 1515.02,1424.06 1540.97,1418.52 1507.71,1425.55 1500.87,1421.08 1530.85,1391.72 \n",
       "  1527.75,1409.55 1552.88,1413.91 1501.97,1406.3 1534.17,1375.77 1541.66,1380.95 1537.97,1403.21 1557,1362.68 1559.12,1379.75 1525.09,1354.73 1555.77,1363.99 \n",
       "  1514.53,1375.05 1511.35,1382.28 1546.23,1370.72 1559.53,1335.44 1527.45,1348.78 1516.95,1335.7 1528.28,1335.1 1509.78,1347.51 1554.95,1324.76 1544.93,1325.72 \n",
       "  1517.46,1313.18 1523.12,1314.64 1523.66,1289.44 1518.94,1304.72 1504.12,1303.67 1517.41,1273.15 1519.02,1273.18 1529.64,1288.32 1522.54,1256.9 1560.13,1239.71 \n",
       "  1546.33,1249.81 1511.14,1232.7 1556.95,1252.8 1500.99,1226.38 1523.58,1206.38 1543.59,1191.3 1520.81,1218.6 1523.73,1209 1515.46,1168.61 1516.33,1185.2 \n",
       "  1505.72,1173.48 1503.44,1156.44 1530.83,1129.14 1543.36,1154.51 1534.86,1115.58 1530.79,1119.72 1546.25,1121.39 1521.3,1087.37 1528.27,1075.06 1545.82,1078.98 \n",
       "  1547.36,1087.7 1504.35,1060.66 1514.89,1043.53 1534,1039.8 1534.33,1005.33 1540.11,996.208 1534.14,998.094 1513.12,1004.37 1503.4,988.755 1537.26,962.295 \n",
       "  1548.98,937.721 1529.6,937.242 1506.34,910.706 1503.78,902.717 1534.13,921.229 1507.7,899.533 1509.56,890.823 1547.73,852.217 1524.18,872.303 1514.82,836.628 \n",
       "  1549.19,822.332 1529.96,793.172 1537.24,792.206 1558.75,781.638 1502.63,773.877 1530.12,737.382 1503.23,755.847 1520.26,751.426 1508.97,714.137 1529.47,692.354 \n",
       "  \n",
       "  \"/>\n",
       "<path clip-path=\"url(#clip1300)\" d=\"\n",
       "M1989.93 433.164 L2280.76 433.164 L2280.76 130.764 L1989.93 130.764  Z\n",
       "  \" fill=\"#ffffff\" fill-rule=\"evenodd\" fill-opacity=\"1\"/>\n",
       "<polyline clip-path=\"url(#clip1300)\" style=\"stroke:#000000; stroke-width:4; stroke-opacity:1; fill:none\" points=\"\n",
       "  1989.93,433.164 2280.76,433.164 2280.76,130.764 1989.93,130.764 1989.93,433.164 \n",
       "  \"/>\n",
       "<polyline clip-path=\"url(#clip1300)\" style=\"stroke:#009af9; stroke-width:4; stroke-opacity:1; fill:none\" points=\"\n",
       "  2013.93,191.244 2157.93,191.244 \n",
       "  \"/>\n",
       "<g clip-path=\"url(#clip1300)\">\n",
       "<text style=\"fill:#000000; fill-opacity:1; font-family:Arial,Helvetica Neue,Helvetica,sans-serif; font-size:48px; text-anchor:start;\" transform=\"rotate(0, 2181.93, 208.744)\" x=\"2181.93\" y=\"208.744\">y1</text>\n",
       "</g>\n",
       "<polyline clip-path=\"url(#clip1300)\" style=\"stroke:#e26f46; stroke-width:4; stroke-opacity:1; fill:none\" points=\"\n",
       "  2013.93,251.724 2157.93,251.724 \n",
       "  \"/>\n",
       "<g clip-path=\"url(#clip1300)\">\n",
       "<text style=\"fill:#000000; fill-opacity:1; font-family:Arial,Helvetica Neue,Helvetica,sans-serif; font-size:48px; text-anchor:start;\" transform=\"rotate(0, 2181.93, 269.224)\" x=\"2181.93\" y=\"269.224\">y2</text>\n",
       "</g>\n",
       "<polyline clip-path=\"url(#clip1300)\" style=\"stroke:#3da44d; stroke-width:4; stroke-opacity:1; fill:none\" points=\"\n",
       "  2013.93,312.204 2157.93,312.204 \n",
       "  \"/>\n",
       "<g clip-path=\"url(#clip1300)\">\n",
       "<text style=\"fill:#000000; fill-opacity:1; font-family:Arial,Helvetica Neue,Helvetica,sans-serif; font-size:48px; text-anchor:start;\" transform=\"rotate(0, 2181.93, 329.704)\" x=\"2181.93\" y=\"329.704\">y3</text>\n",
       "</g>\n",
       "<polyline clip-path=\"url(#clip1300)\" style=\"stroke:#c271d2; stroke-width:4; stroke-opacity:1; fill:none\" points=\"\n",
       "  2013.93,372.684 2157.93,372.684 \n",
       "  \"/>\n",
       "<g clip-path=\"url(#clip1300)\">\n",
       "<text style=\"fill:#000000; fill-opacity:1; font-family:Arial,Helvetica Neue,Helvetica,sans-serif; font-size:48px; text-anchor:start;\" transform=\"rotate(0, 2181.93, 390.184)\" x=\"2181.93\" y=\"390.184\">y4</text>\n",
       "</g>\n",
       "</svg>\n"
      ]
     },
     "execution_count": 84,
     "metadata": {},
     "output_type": "execute_result"
    }
   ],
   "source": [
    "plot(measurementsNoise[1,1,:],measurementsNoise[2,1,:])\n",
    "plot!(measurementsNoise[1,2,:],measurementsNoise[2,2,:])\n",
    "plot!(measurementsNoise[1,3,:],measurementsNoise[2,3,:])\n",
    "plot!(measurementsNoise[1,4,:],measurementsNoise[2,4,:])"
   ]
  },
  {
   "cell_type": "code",
   "execution_count": 85,
   "metadata": {},
   "outputs": [
    {
     "name": "stdout",
     "output_type": "stream",
     "text": [
      "(4, 4, 100)"
     ]
    }
   ],
   "source": [
    "file = open(\"data/measurements.hpp\",\"w+\")\n",
    "print(size(measurementsNoise))\n",
    "write(file, \"float measurements[100][16] = {\")\n",
    "write(file, replace(replace(replace(replace(string(permutedims(measurementsNoise,(2,1,3))) , \"[\" => \"{\"),\"]\"=>\"},\"),\" \"=>\", \"),\";,\"=>\",\")[1:end-1])  \n",
    "write(file, \"};\\n\")\n",
    "\n",
    "close(file)"
   ]
  },
  {
   "cell_type": "markdown",
   "metadata": {},
   "source": [
    "Kalman Filter Functions"
   ]
  },
  {
   "cell_type": "code",
   "execution_count": 86,
   "metadata": {},
   "outputs": [
    {
     "data": {
      "text/plain": [
       "update (generic function with 1 method)"
      ]
     },
     "execution_count": 86,
     "metadata": {},
     "output_type": "execute_result"
    }
   ],
   "source": [
    "using LinearAlgebra\n",
    "function predict(A,X,B,U,P,Q)\n",
    "    Xp = A*X + B.*U\n",
    "    Pp = A *P*transpose(A) + Q\n",
    "    return Xp,Pp\n",
    "end\n",
    "\n",
    "function update(P,H,R,Xp,Y)\n",
    "    Ht = transpose(H)\n",
    "    K= (P*Ht) * inv(H*P*Ht+R)\n",
    "    Xk = Xp + K* (Y-H*Xp)\n",
    "    Pk = (I - K*H)*P\n",
    "    return Xk,Pk,K\n",
    "end "
   ]
  },
  {
   "cell_type": "markdown",
   "metadata": {},
   "source": [
    "Runs the Kalman Filter on kinematic data. State transition models based off kinematic equations. \n",
    "Non diagonal Covariance terms not used for simplicity."
   ]
  },
  {
   "cell_type": "code",
   "execution_count": 87,
   "metadata": {},
   "outputs": [
    {
     "data": {
      "text/plain": [
       "runKalmanKinematic (generic function with 1 method)"
      ]
     },
     "execution_count": 87,
     "metadata": {},
     "output_type": "execute_result"
    }
   ],
   "source": [
    "function runKalmanKinematic(measurements,dt,ax1,ay1,ax2,ay2,ax3,ay3,ax4,ay4,noise,vnoise)\n",
    "    #Set up initial state\n",
    "    X = measurements[:,:,1]\n",
    "    xpred = [X]\n",
    "    kalmanGains = []\n",
    "    \n",
    "    #State transisition matrix, adds dt*velocity to position\n",
    "    A = [1 0 dt 0; 0 1 0 dt; 0 0 1 0; 0 0 0 1]\n",
    "    \n",
    "    #Control matrix, updates position and velocity based on acceleration\n",
    "    B = [.5*dt^2;.5*dt^2;dt;dt] \n",
    "    U = [ax1 ax2 ax3 ax4;ay1 ay2 ay3 ay4;ax1 ax2 ax3 ax4;ay1 ay2 ay3 ay4]\n",
    "    H = I\n",
    "    R = [noise^2 0 0 0;\n",
    "         0 noise^2 0 0;\n",
    "         0 0 vnoise^2 0;\n",
    "         0 0 0 vnoise^2]\n",
    "    Q = I \n",
    "    P = Q\n",
    "    for i in 2:(size(measurements)[3])\n",
    "        Xp, Pp = predict(A,X,B,U,P,Q)\n",
    "        Xk, Pk, K = update(Pp,H,R,Xp,measurements[:,:,i])\n",
    "        append!(xpred,[Xk])\n",
    "        append!(kalmanGains,[diag(K)])\n",
    "        P = Pk\n",
    "        X = Xk\n",
    "        display(X)\n",
    "    end\n",
    "    \n",
    "    return cat(xpred...,dims=3),hcat(kalmanGains...)\n",
    "end"
   ]
  },
  {
   "cell_type": "markdown",
   "metadata": {},
   "source": [
    "Kalman Filter is run on measurements, green line is filtered value and blue line is the true value"
   ]
  },
  {
   "cell_type": "code",
   "execution_count": 88,
   "metadata": {},
   "outputs": [
    {
     "data": {
      "text/plain": [
       "4×4 Array{Float64,2}:\n",
       " 10.6976     400.935      19.1814    338.137   \n",
       " 48.2288     394.059      43.045       8.70963 \n",
       "  0.0234236   -0.190001   -0.160471   -0.425174\n",
       " -0.170205     0.0730689   0.584144   -0.490127"
      ]
     },
     "metadata": {},
     "output_type": "display_data"
    },
    {
     "data": {
      "text/plain": [
       "4×4 Array{Float64,2}:\n",
       " 10.8369    401.267     19.3594    337.652   \n",
       " 48.8142    393.971     43.2305      7.92581 \n",
       "  0.748169    0.313052   0.292222   -0.457179\n",
       "  0.300445    0.029165   0.70288    -0.639743"
      ]
     },
     "metadata": {},
     "output_type": "display_data"
    },
    {
     "data": {
      "text/plain": [
       "4×4 Array{Float64,2}:\n",
       " 11.0184    401.709       19.8785     336.847    \n",
       " 49.122     393.796       43.5211       7.29514  \n",
       "  0.534924    0.161781     0.0115881   -0.260031 \n",
       "  0.286651    0.00980276   0.0607208   -0.0503614"
      ]
     },
     "metadata": {},
     "output_type": "display_data"
    },
    {
     "data": {
      "text/plain": [
       "4×4 Array{Float64,2}:\n",
       " 10.9945     400.958     20.5069    337.074   \n",
       " 50.156      393.493     43.1105      7.69355 \n",
       " -0.0881237   -0.426742   0.361284    0.400878\n",
       "  0.178775    -0.25099   -0.452262    0.767097"
      ]
     },
     "metadata": {},
     "output_type": "display_data"
    },
    {
     "data": {
      "text/plain": [
       "4×4 Array{Float64,2}:\n",
       " 10.483       400.7       20.3189    336.955   \n",
       " 51.0433      393.488     42.8921      7.73544 \n",
       "  0.551102     -0.755805  -0.195196   -0.367604\n",
       " -0.00428981   -0.020224   0.193818    0.675725"
      ]
     },
     "metadata": {},
     "output_type": "display_data"
    },
    {
     "data": {
      "text/plain": [
       "4×4 Array{Float64,2}:\n",
       " 10.4131    399.25       19.9272     336.502   \n",
       " 52.3982    394.118      42.0564       7.76569 \n",
       "  0.647701   -1.28214     0.217295    -0.319022\n",
       "  0.865948   -0.0303208   0.0830395    0.498859"
      ]
     },
     "metadata": {},
     "output_type": "display_data"
    },
    {
     "data": {
      "text/plain": [
       "4×4 Array{Float64,2}:\n",
       " 11.3617    398.927     19.6016    335.524   \n",
       " 53.3385    394.597     41.8554      7.48443 \n",
       "  0.952345   -0.385273  -0.231939   -0.51879 \n",
       "  1.09624     0.386402  -0.191443    0.766619"
      ]
     },
     "metadata": {},
     "output_type": "display_data"
    },
    {
     "data": {
      "text/plain": [
       "4×4 Array{Float64,2}:\n",
       " 11.4121    398.317      19.8979     334.681   \n",
       " 55.6167    394.598      41.6234       8.03911 \n",
       "  0.335706   -0.818513    0.481822    -0.185125\n",
       "  0.981426    0.0883352   0.0677731    1.22282 "
      ]
     },
     "metadata": {},
     "output_type": "display_data"
    },
    {
     "data": {
      "text/plain": [
       "4×4 Array{Float64,2}:\n",
       " 11.6858    397.289     20.9813    334.117   \n",
       " 57.2451    395.021     41.2692      7.90722 \n",
       "  0.649513   -0.533986   0.779713    0.297993\n",
       "  0.641956    0.395125   0.331147    0.85343 "
      ]
     },
     "metadata": {},
     "output_type": "display_data"
    },
    {
     "data": {
      "text/plain": [
       "4×4 Array{Float64,2}:\n",
       " 12.3483    396.294     22.8448    334.148    \n",
       " 57.6688    395.092     40.1395      9.09018  \n",
       "  0.638276   -0.314188   0.959764   -0.0964864\n",
       "  1.20213     0.308084  -0.13216     0.416212 "
      ]
     },
     "metadata": {},
     "output_type": "display_data"
    },
    {
     "data": {
      "text/plain": [
       "4×4 Array{Float64,2}:\n",
       " 11.8032   395.791     23.8564    333.736   \n",
       " 58.8563   396.237     39.8261      8.61408 \n",
       "  1.2034    -1.23039    0.396749   -0.499153\n",
       "  1.12098    0.337363   0.500081    0.353371"
      ]
     },
     "metadata": {},
     "output_type": "display_data"
    },
    {
     "data": {
      "text/plain": [
       "4×4 Array{Float64,2}:\n",
       " 12.3968    395.101    23.8959    332.672  \n",
       " 59.75      397.672    39.1967      9.5545 \n",
       "  0.824695   -1.52252   0.94279    -0.24093\n",
       "  0.944154    0.84958   0.718353    1.41753"
      ]
     },
     "metadata": {},
     "output_type": "display_data"
    },
    {
     "data": {
      "text/plain": [
       "4×4 Array{Float64,2}:\n",
       " 13.2634    393.737    25.7459    332.835   \n",
       " 61.7741    399.168    39.1471     11.7662  \n",
       "  0.755568   -1.30243   0.940228   -0.650507\n",
       "  0.775449    1.50403   0.365668    1.30891 "
      ]
     },
     "metadata": {},
     "output_type": "display_data"
    },
    {
     "data": {
      "text/plain": [
       "4×4 Array{Float64,2}:\n",
       " 14.4924    392.758     27.2632    333.315   \n",
       " 64.1242    402.387     39.8233     13.3544  \n",
       "  0.948211   -0.900783   1.24103    -0.619392\n",
       "  1.11537     1.85483    0.547766    1.3836  "
      ]
     },
     "metadata": {},
     "output_type": "display_data"
    },
    {
     "data": {
      "text/plain": [
       "4×4 Array{Float64,2}:\n",
       " 14.5976   391.73     27.698     332.147  \n",
       " 65.3679   404.301    40.8092     13.8722 \n",
       "  1.3465    -1.80138   0.578355   -0.57197\n",
       "  1.48024    1.55333   0.667239    1.05195"
      ]
     },
     "metadata": {},
     "output_type": "display_data"
    },
    {
     "data": {
      "text/plain": [
       "4×4 Array{Float64,2}:\n",
       " 15.2029   390.124    27.2463    332.442    \n",
       " 68.5789   406.173    41.654      14.5661   \n",
       "  1.72816   -2.24903   1.11927     0.0508349\n",
       "  2.18224    1.93556   0.262472    1.15645  "
      ]
     },
     "metadata": {},
     "output_type": "display_data"
    },
    {
     "data": {
      "text/plain": [
       "4×4 Array{Float64,2}:\n",
       " 16.7729   386.449    27.4762    331.648    \n",
       " 69.6828   409.472    40.2357     15.147    \n",
       "  2.09737   -2.27085   0.717943    0.0990511\n",
       "  1.45558    1.41506   0.102104    1.70184  "
      ]
     },
     "metadata": {},
     "output_type": "display_data"
    },
    {
     "data": {
      "text/plain": [
       "4×4 Array{Float64,2}:\n",
       " 19.2134   384.921    28.2981   330.934   \n",
       " 70.9662   412.069    40.9245    16.1697  \n",
       "  1.63934   -2.32467   1.2979     0.626081\n",
       "  1.59735    1.7563    1.15859    1.78996 "
      ]
     },
     "metadata": {},
     "output_type": "display_data"
    },
    {
     "data": {
      "text/plain": [
       "4×4 Array{Float64,2}:\n",
       " 19.6453   383.61     29.9973    331.644  \n",
       " 73.3582   413.553    41.6129     19.0198 \n",
       "  1.48521   -2.38173   1.24354     0.52846\n",
       "  1.85153    1.56735   0.503337    2.24501"
      ]
     },
     "metadata": {},
     "output_type": "display_data"
    },
    {
     "data": {
      "text/plain": [
       "4×4 Array{Float64,2}:\n",
       " 20.9622   381.339    30.0579    331.859    \n",
       " 76.0516   415.614    41.6265     20.8661   \n",
       "  2.03716   -2.32775   0.843807    0.0253633\n",
       "  2.58453    1.61488   1.12966     2.36198  "
      ]
     },
     "metadata": {},
     "output_type": "display_data"
    },
    {
     "data": {
      "text/plain": [
       "4×4 Array{Float64,2}:\n",
       " 23.6644   379.551    31.4722    333.004   \n",
       " 78.9392   417.115    41.878      22.2174  \n",
       "  2.58581   -2.96506   0.876948    0.196541\n",
       "  1.80939    1.89891   1.59236     2.11726 "
      ]
     },
     "metadata": {},
     "output_type": "display_data"
    },
    {
     "data": {
      "text/plain": [
       "4×4 Array{Float64,2}:\n",
       " 25.5446   376.656    32.9412   332.179   \n",
       " 82.7054   420.205    43.0194    24.0569  \n",
       "  2.98347   -2.63278   1.17824    0.548002\n",
       "  2.67083    1.68471   1.00842    2.61266 "
      ]
     },
     "metadata": {},
     "output_type": "display_data"
    },
    {
     "data": {
      "text/plain": [
       "4×4 Array{Float64,2}:\n",
       " 29.4336   374.419    34.458     332.711   \n",
       " 85.8743   422.853    45.3858     27.9277  \n",
       "  2.49194   -2.96135   0.803858    0.184539\n",
       "  2.87112    1.94977   1.30535     3.08185 "
      ]
     },
     "metadata": {},
     "output_type": "display_data"
    },
    {
     "data": {
      "text/plain": [
       "4×4 Array{Float64,2}:\n",
       " 33.2149   371.272    37.0533   333.141   \n",
       " 88.9259   425.976    47.8833    31.2168  \n",
       "  3.17596   -3.41921   1.7192    -0.257762\n",
       "  2.76154    1.89338   1.59163    2.83749 "
      ]
     },
     "metadata": {},
     "output_type": "display_data"
    },
    {
     "data": {
      "text/plain": [
       "4×4 Array{Float64,2}:\n",
       " 37.1874   366.845    38.2182   333.099   \n",
       " 91.5235   428.014    49.6305    32.937   \n",
       "  3.52902   -2.59309   2.14915   -0.466997\n",
       "  2.22017    1.97768   1.42499    3.01204 "
      ]
     },
     "metadata": {},
     "output_type": "display_data"
    },
    {
     "data": {
      "text/plain": [
       "4×4 Array{Float64,2}:\n",
       " 40.9764   363.251    38.832    333.945   \n",
       " 94.6947   429.411    50.8346    37.0262  \n",
       "  2.65833   -3.42995   1.16895   -0.181818\n",
       "  1.93096    2.21332   1.24743    3.20814 "
      ]
     },
     "metadata": {},
     "output_type": "display_data"
    },
    {
     "data": {
      "text/plain": [
       "4×4 Array{Float64,2}:\n",
       " 42.3015   360.996    39.634     334.788   \n",
       " 98.1563   431.03     52.1725     39.7599  \n",
       "  2.88115   -3.51746   0.807867   -0.424987\n",
       "  2.42915    2.43683   1.41328     3.04969 "
      ]
     },
     "metadata": {},
     "output_type": "display_data"
    },
    {
     "data": {
      "text/plain": [
       "4×4 Array{Float64,2}:\n",
       "  46.4207   357.645    41.7854   334.421   \n",
       " 101.012    434.878    54.2489    43.4333  \n",
       "   3.30627   -3.43219   1.49813    0.334255\n",
       "   2.24124    2.32887   0.88372    2.64019 "
      ]
     },
     "metadata": {},
     "output_type": "display_data"
    },
    {
     "data": {
      "text/plain": [
       "4×4 Array{Float64,2}:\n",
       "  48.8509   354.03     43.2502   335.456    \n",
       " 103.216    438.226    54.9521    46.3288   \n",
       "   3.20869   -3.40038   1.73164   -0.0942119\n",
       "   2.10413    2.83319   1.74425    3.08025  "
      ]
     },
     "metadata": {},
     "output_type": "display_data"
    },
    {
     "data": {
      "text/plain": [
       "4×4 Array{Float64,2}:\n",
       "  52.9373   350.593    43.8988   334.817  \n",
       " 106.727    439.953    55.4283    48.6295 \n",
       "   3.43783   -3.02571   1.43901    0.5495 \n",
       "   2.4236     2.40354   1.35267    3.33686"
      ]
     },
     "metadata": {},
     "output_type": "display_data"
    },
    {
     "data": {
      "text/plain": [
       "4×4 Array{Float64,2}:\n",
       "  55.789    347.276    46.9497   334.411   \n",
       " 110.34     443.683    56.5826    50.0717  \n",
       "   3.7608    -3.94786   1.92224    0.680795\n",
       "   3.25073    3.11595   1.55081    2.71829 "
      ]
     },
     "metadata": {},
     "output_type": "display_data"
    },
    {
     "data": {
      "text/plain": [
       "4×4 Array{Float64,2}:\n",
       "  58.9813   344.571    48.619    335.302   \n",
       " 113.386    447.825    57.8251    52.3151  \n",
       "   4.0996    -3.26185   2.40496    0.149808\n",
       "   2.77963    3.67536   1.79057    3.62628 "
      ]
     },
     "metadata": {},
     "output_type": "display_data"
    },
    {
     "data": {
      "text/plain": [
       "4×4 Array{Float64,2}:\n",
       "  61.7502   341.004    51.1405   336.377   \n",
       " 116.918    452.749    60.688     56.7664  \n",
       "   4.18762   -4.31205   1.6642    -0.053282\n",
       "   3.30202    4.04332   2.14018    3.61825 "
      ]
     },
     "metadata": {},
     "output_type": "display_data"
    },
    {
     "data": {
      "text/plain": [
       "4×4 Array{Float64,2}:\n",
       "  66.4289   337.203    53.9996   336.234   \n",
       " 120.401    457.101    60.7943    59.6666  \n",
       "   4.14264   -4.46517   2.44117    0.566406\n",
       "   3.91743    3.93965   1.29077    2.91205 "
      ]
     },
     "metadata": {},
     "output_type": "display_data"
    },
    {
     "data": {
      "text/plain": [
       "4×4 Array{Float64,2}:\n",
       "  69.338    332.397    55.1415   335.611    \n",
       " 123.472    460.142    62.5114    62.7281   \n",
       "   3.97836   -4.55524   2.0854     0.0502659\n",
       "   3.51136    3.77355   1.98492    2.75373  "
      ]
     },
     "metadata": {},
     "output_type": "display_data"
    },
    {
     "data": {
      "text/plain": [
       "4×4 Array{Float64,2}:\n",
       "  74.0149   329.193    57.9905   335.338    \n",
       " 127.595    463.423    64.6066    65.9359   \n",
       "   4.55452   -4.0162    2.11865    0.0556665\n",
       "   3.75686    4.00641   1.58937    3.57473  "
      ]
     },
     "metadata": {},
     "output_type": "display_data"
    },
    {
     "data": {
      "text/plain": [
       "4×4 Array{Float64,2}:\n",
       "  78.6107   323.413    60.6668   334.104   \n",
       " 130.603    467.08     66.7814    68.6362  \n",
       "   4.57245   -4.8771    2.43767   -0.299133\n",
       "   4.24098    3.86065   1.67254    3.93302 "
      ]
     },
     "metadata": {},
     "output_type": "display_data"
    },
    {
     "data": {
      "text/plain": [
       "4×4 Array{Float64,2}:\n",
       "  82.2183   318.989    63.159    334.929   \n",
       " 133.321    471.443    69.3253    72.8491  \n",
       "   4.64683   -4.8972    1.88977   -0.035084\n",
       "   3.59385    3.88855   1.53376    4.4551  "
      ]
     },
     "metadata": {},
     "output_type": "display_data"
    },
    {
     "data": {
      "text/plain": [
       "4×4 Array{Float64,2}:\n",
       "  85.7045   315.096    64.3311   335.308   \n",
       " 135.751    475.257    70.2344    76.7264  \n",
       "   4.4252    -5.06109   2.20214   -0.113839\n",
       "   3.31639    4.01041   2.2665     4.25392 "
      ]
     },
     "metadata": {},
     "output_type": "display_data"
    },
    {
     "data": {
      "text/plain": [
       "4×4 Array{Float64,2}:\n",
       "  90.9381   309.565    65.4248   334.628   \n",
       " 138.667    480.395    71.9597    81.1033  \n",
       "   4.43475   -5.25168   2.39964    0.232341\n",
       "   3.79286    4.2069    2.21036    4.58981 "
      ]
     },
     "metadata": {},
     "output_type": "display_data"
    },
    {
     "data": {
      "text/plain": [
       "4×4 Array{Float64,2}:\n",
       "  94.548    304.297    67.7378   334.494   \n",
       " 143.724    484.667    74.9724    85.0192  \n",
       "   4.83109   -4.99752   2.29499    0.445733\n",
       "   3.58222    4.57432   2.2975     4.36779 "
      ]
     },
     "metadata": {},
     "output_type": "display_data"
    },
    {
     "data": {
      "text/plain": [
       "4×4 Array{Float64,2}:\n",
       " 101.1      298.044    69.1039   334.354   \n",
       " 148.298    490.5      75.8859    89.7482  \n",
       "   5.52415   -5.52604   2.05412    0.214521\n",
       "   3.57796    4.69243   1.93543    3.91866 "
      ]
     },
     "metadata": {},
     "output_type": "display_data"
    },
    {
     "data": {
      "text/plain": [
       "4×4 Array{Float64,2}:\n",
       " 107.032    293.71     70.1664   333.786   \n",
       " 153.194    495.77     77.6619    93.2097  \n",
       "   4.92351   -5.45481   2.11336   -0.062266\n",
       "   4.04363    4.59345   2.4693     4.32034 "
      ]
     },
     "metadata": {},
     "output_type": "display_data"
    },
    {
     "data": {
      "text/plain": [
       "4×4 Array{Float64,2}:\n",
       " 112.997    287.625    72.7037   332.624   \n",
       " 157.067    501.181    80.758     96.6259  \n",
       "   5.42426   -5.02233   2.76635    0.121044\n",
       "   4.22502    4.92822   2.25787    4.40393 "
      ]
     },
     "metadata": {},
     "output_type": "display_data"
    },
    {
     "data": {
      "text/plain": [
       "4×4 Array{Float64,2}:\n",
       " 118.286    283.427    77.2274   332.231   \n",
       " 161.981    505.296    82.5764   101.613   \n",
       "   5.49109   -5.1175    3.42767    0.169881\n",
       "   5.01943    4.89586   2.78163    4.48979 "
      ]
     },
     "metadata": {},
     "output_type": "display_data"
    },
    {
     "data": {
      "text/plain": [
       "4×4 Array{Float64,2}:\n",
       " 124.336    277.199    79.4677   331.721   \n",
       " 165.476    510.834    84.4223   106.005   \n",
       "   6.32265   -5.22032   2.60145   -0.278077\n",
       "   4.44033    5.21895   2.4909     4.1396  "
      ]
     },
     "metadata": {},
     "output_type": "display_data"
    },
    {
     "data": {
      "text/plain": [
       "4×4 Array{Float64,2}:\n",
       " 129.352    270.326    83.1787   331.687    \n",
       " 170.586    514.627    86.329    109.041    \n",
       "   5.82721   -5.74025   2.64029   -0.0114875\n",
       "   5.07776    5.00955   2.51528    4.23296  "
      ]
     },
     "metadata": {},
     "output_type": "display_data"
    },
    {
     "data": {
      "text/plain": [
       "4×4 Array{Float64,2}:\n",
       " 134.221    263.381    85.1314   331.29   \n",
       " 176.613    519.149    89.7338   114.211  \n",
       "   5.719     -5.53322   2.90305   -0.31169\n",
       "   4.88795    4.89832   2.32258    5.20539"
      ]
     },
     "metadata": {},
     "output_type": "display_data"
    },
    {
     "data": {
      "text/plain": [
       "4×4 Array{Float64,2}:\n",
       " 141.387    257.764    87.7878   332.81    \n",
       " 181.589    522.33     92.0521   120.519   \n",
       "   5.87057   -6.14934   3.37297    0.394911\n",
       "   5.44052    4.50967   2.41218    5.60386 "
      ]
     },
     "metadata": {},
     "output_type": "display_data"
    },
    {
     "data": {
      "text/plain": [
       "4×4 Array{Float64,2}:\n",
       " 146.49     252.548    91.5561   333.849   \n",
       " 185.779    525.78     95.1041   125.599   \n",
       "   6.24208   -5.87766   3.12652    0.353902\n",
       "   5.34694    4.84888   2.61454    5.17132 "
      ]
     },
     "metadata": {},
     "output_type": "display_data"
    },
    {
     "data": {
      "text/plain": [
       "4×4 Array{Float64,2}:\n",
       " 153.806    247.163    93.9497   332.828   \n",
       " 190.456    529.494    96.9316   130.775   \n",
       "   6.21632   -6.76734   2.9261    -0.463919\n",
       "   5.78621    4.81349   2.82809    4.61    "
      ]
     },
     "metadata": {},
     "output_type": "display_data"
    },
    {
     "data": {
      "text/plain": [
       "4×4 Array{Float64,2}:\n",
       " 159.926    240.774    96.3473   333.83     \n",
       " 197.076    535.04     99.8076   134.031    \n",
       "   6.07417   -6.89411   3.52761    0.0404282\n",
       "   5.42528    5.36486   2.18346    4.47268  "
      ]
     },
     "metadata": {},
     "output_type": "display_data"
    },
    {
     "data": {
      "text/plain": [
       "4×4 Array{Float64,2}:\n",
       " 166.81     234.181    100.728    332.682  \n",
       " 202.356    539.422    102.976    138.758  \n",
       "   6.55532   -7.09171    3.00763    0.33543\n",
       "   4.90736    5.70643    2.33415    4.95191"
      ]
     },
     "metadata": {},
     "output_type": "display_data"
    },
    {
     "data": {
      "text/plain": [
       "4×4 Array{Float64,2}:\n",
       " 172.585    226.801    104.075    332.772   \n",
       " 207.078    544.229    104.836    144.31    \n",
       "   6.89798   -7.7812     3.52972    0.433549\n",
       "   5.83361    4.93263    2.49236    4.73414 "
      ]
     },
     "metadata": {},
     "output_type": "display_data"
    },
    {
     "data": {
      "text/plain": [
       "4×4 Array{Float64,2}:\n",
       " 179.245    218.588    107.768    333.807   \n",
       " 211.461    549.268    108.081    150.688   \n",
       "   6.63084   -8.17882    3.08248    0.536011\n",
       "   5.33185    5.63848    3.08802    5.6867  "
      ]
     },
     "metadata": {},
     "output_type": "display_data"
    },
    {
     "data": {
      "text/plain": [
       "4×4 Array{Float64,2}:\n",
       " 186.103    210.759    111.474    333.9     \n",
       " 216.073    554.562    110.648    155.144   \n",
       "   7.15368   -7.80501    3.01977    0.704937\n",
       "   5.23352    5.67124    2.54605    5.46506 "
      ]
     },
     "metadata": {},
     "output_type": "display_data"
    },
    {
     "data": {
      "text/plain": [
       "4×4 Array{Float64,2}:\n",
       " 192.88     202.27     115.057    333.867   \n",
       " 221.145    558.984    111.677    159.737   \n",
       "   7.4565    -7.92746    3.44759    0.130898\n",
       "   5.71141    5.41917    2.23106    5.5562  "
      ]
     },
     "metadata": {},
     "output_type": "display_data"
    },
    {
     "data": {
      "text/plain": [
       "4×4 Array{Float64,2}:\n",
       " 200.327    193.14     117.842    333.383   \n",
       " 226.323    566.429    115.518    166.728   \n",
       "   7.16858   -7.87678    3.68236    0.353749\n",
       "   5.96289    6.25328    2.96651    6.28944 "
      ]
     },
     "metadata": {},
     "output_type": "display_data"
    },
    {
     "data": {
      "text/plain": [
       "4×4 Array{Float64,2}:\n",
       " 208.641    185.619    120.683    332.845   \n",
       " 231.487    573.691    119.632    172.291   \n",
       "   8.22858   -8.57187    3.49569   -0.054307\n",
       "   6.26362    6.04375    3.43539    6.07238 "
      ]
     },
     "metadata": {},
     "output_type": "display_data"
    },
    {
     "data": {
      "text/plain": [
       "4×4 Array{Float64,2}:\n",
       " 217.778    177.85     125.368    331.906   \n",
       " 236.91     580.558    122.74     178.134   \n",
       "   8.07742   -8.67713    4.49343    0.250918\n",
       "   6.51755    6.41425    2.82583    6.37282 "
      ]
     },
     "metadata": {},
     "output_type": "display_data"
    },
    {
     "data": {
      "text/plain": [
       "4×4 Array{Float64,2}:\n",
       " 226.896    168.063    130.727    330.991  \n",
       " 244.263    587.111    126.222    184.44   \n",
       "   8.86661   -9.08658    4.60317    0.10917\n",
       "   5.80465    5.90894    2.89009    6.11272"
      ]
     },
     "metadata": {},
     "output_type": "display_data"
    },
    {
     "data": {
      "text/plain": [
       "4×4 Array{Float64,2}:\n",
       " 237.239    159.65     135.789    330.981   \n",
       " 249.913    593.475    128.17     191.867   \n",
       "   8.78544   -8.90964    4.91102   -0.454331\n",
       "   5.72767    6.1005     3.23163    6.42721 "
      ]
     },
     "metadata": {},
     "output_type": "display_data"
    },
    {
     "data": {
      "text/plain": [
       "4×4 Array{Float64,2}:\n",
       " 245.932    151.816    140.778    331.656   \n",
       " 255.219    600.752    130.266    197.522   \n",
       "   8.71301   -9.21958    5.12116    0.212356\n",
       "   6.24636    6.27904    3.78175    6.89825 "
      ]
     },
     "metadata": {},
     "output_type": "display_data"
    },
    {
     "data": {
      "text/plain": [
       "4×4 Array{Float64,2}:\n",
       " 255.063    143.388    144.611    331.989   \n",
       " 262.955    607.452    132.285    205.152   \n",
       "   8.60616   -9.64332    4.2698    -0.101298\n",
       "   6.89381    6.5066     3.22103    6.90898 "
      ]
     },
     "metadata": {},
     "output_type": "display_data"
    },
    {
     "data": {
      "text/plain": [
       "4×4 Array{Float64,2}:\n",
       " 263.313    134.365    148.281    332.18    \n",
       " 269.175    613.468    136.787    212.003   \n",
       "   9.18596   -9.77664    3.99731    0.236309\n",
       "   6.50107    6.05388    3.48115    7.15056 "
      ]
     },
     "metadata": {},
     "output_type": "display_data"
    },
    {
     "data": {
      "text/plain": [
       "4×4 Array{Float64,2}:\n",
       " 273.771    124.177    153.991    333.038    \n",
       " 275.257    620.561    140.774    218.359    \n",
       "   8.82896   -9.15991    4.77235    0.0311596\n",
       "   6.52787    6.98817    2.9041     7.36337  "
      ]
     },
     "metadata": {},
     "output_type": "display_data"
    },
    {
     "data": {
      "text/plain": [
       "4×4 Array{Float64,2}:\n",
       " 283.944    113.889   159.474    332.726   \n",
       " 283.191    628.562   142.435    226.106   \n",
       "   9.63069   -9.9776    5.27074    0.139215\n",
       "   6.32838    7.1298    3.14121    7.11696 "
      ]
     },
     "metadata": {},
     "output_type": "display_data"
    },
    {
     "data": {
      "text/plain": [
       "4×4 Array{Float64,2}:\n",
       " 294.293    104.083    164.142    332.899   \n",
       " 290.716    633.966    144.999    233.471   \n",
       "  10.1158    -9.78332    4.59355    0.357722\n",
       "   6.90661    6.36908    3.68       6.49338 "
      ]
     },
     "metadata": {},
     "output_type": "display_data"
    },
    {
     "data": {
      "text/plain": [
       "4×4 Array{Float64,2}:\n",
       " 303.006     94.6449   169.933    334.013   \n",
       " 297.272    641.116    148.927    239.931   \n",
       "   9.77923   -9.87568    4.28309    0.577142\n",
       "   7.2389     6.62903    3.84609    6.88406 "
      ]
     },
     "metadata": {},
     "output_type": "display_data"
    },
    {
     "data": {
      "text/plain": [
       "4×4 Array{Float64,2}:\n",
       " 314.025     84.2769   175.31     335.139   \n",
       " 302.995    648.619    152.054    245.624   \n",
       "   9.71959  -10.2725     4.54128    0.503206\n",
       "   6.75977    6.55391    3.22276    7.19062 "
      ]
     },
     "metadata": {},
     "output_type": "display_data"
    },
    {
     "data": {
      "text/plain": [
       "4×4 Array{Float64,2}:\n",
       " 323.984     73.9635  181.021    334.083  \n",
       " 308.966    654.224   155.953    252.642  \n",
       "  10.5593   -10.831     5.456      0.12446\n",
       "   6.56331    6.5105    3.51286    7.41268"
      ]
     },
     "metadata": {},
     "output_type": "display_data"
    },
    {
     "data": {
      "text/plain": [
       "4×4 Array{Float64,2}:\n",
       " 334.933     63.3018   186.174    333.069   \n",
       " 316.625    662.041    160.532    260.223   \n",
       "  10.9348   -10.34       5.59569   -0.551902\n",
       "   6.52993    7.10281    3.29152    7.57991 "
      ]
     },
     "metadata": {},
     "output_type": "display_data"
    },
    {
     "data": {
      "text/plain": [
       "4×4 Array{Float64,2}:\n",
       " 347.097     53.4592   193.085    333.216   \n",
       " 323.964    668.667    164.222    267.314   \n",
       "  11.3485   -11.2027     5.98021    0.392172\n",
       "   6.53159    7.66055    3.77257    7.37778 "
      ]
     },
     "metadata": {},
     "output_type": "display_data"
    },
    {
     "data": {
      "text/plain": [
       "4×4 Array{Float64,2}:\n",
       " 358.58      43.6634   198.09     333.726   \n",
       " 329.583    676.455    166.756    275.805   \n",
       "  11.601    -11.0791     5.35898    0.399814\n",
       "   6.74886    6.94344    3.88707    7.51522 "
      ]
     },
     "metadata": {},
     "output_type": "display_data"
    },
    {
     "data": {
      "text/plain": [
       "4×4 Array{Float64,2}:\n",
       " 370.504     32.9404   204.183    334.397   \n",
       " 336.087    683.828    169.764    284.051   \n",
       "  11.0075   -11.0082     5.61512    0.315029\n",
       "   6.69048    7.51714    3.43767    7.34925 "
      ]
     },
     "metadata": {},
     "output_type": "display_data"
    },
    {
     "data": {
      "text/plain": [
       "4×4 Array{Float64,2}:\n",
       " 380.38      20.8416   208.574    334.46   \n",
       " 342.582    690.852    173.238    291.509  \n",
       "  11.6085   -10.942      5.57313   -0.1714 \n",
       "   7.26032    8.20454    3.47587    7.55297"
      ]
     },
     "metadata": {},
     "output_type": "display_data"
    },
    {
     "data": {
      "text/plain": [
       "4×4 Array{Float64,2}:\n",
       " 393.01       8.72737  215.583    333.241   \n",
       " 349.994    698.682    175.709    298.009   \n",
       "  11.5206   -10.844      6.35796   -0.522184\n",
       "   7.06898    8.04088    3.64016    7.53207 "
      ]
     },
     "metadata": {},
     "output_type": "display_data"
    },
    {
     "data": {
      "text/plain": [
       "4×4 Array{Float64,2}:\n",
       " 403.884     -1.99959  221.925    331.83     \n",
       " 357.175    707.38     178.939    304.688    \n",
       "  11.9014   -10.9519     5.6589    -0.0500101\n",
       "   7.17223    7.39753    3.88154    7.23106  "
      ]
     },
     "metadata": {},
     "output_type": "display_data"
    },
    {
     "data": {
      "text/plain": [
       "4×4 Array{Float64,2}:\n",
       " 414.354    -12.9759   226.448    332.453   \n",
       " 364.163    714.809    182.538    312.656   \n",
       "  11.4461   -12.0036     5.29499    0.462293\n",
       "   7.12132    7.83489    4.02006    8.04271 "
      ]
     },
     "metadata": {},
     "output_type": "display_data"
    },
    {
     "data": {
      "text/plain": [
       "4×4 Array{Float64,2}:\n",
       " 426.652    -24.2896   232.17     333.844   \n",
       " 372.807    722.27     187.26     321.547   \n",
       "  12.459    -12.3226     5.66909    0.693217\n",
       "   7.16887    7.83365    4.46256    7.80146 "
      ]
     },
     "metadata": {},
     "output_type": "display_data"
    },
    {
     "data": {
      "text/plain": [
       "4×4 Array{Float64,2}:\n",
       " 438.396    -35.5167   237.904    333.808   \n",
       " 379.929    729.72     192.47     329.681   \n",
       "  12.7385   -12.0322     6.15913   -0.349464\n",
       "   7.80845    7.53959    4.31928    7.96195 "
      ]
     },
     "metadata": {},
     "output_type": "display_data"
    },
    {
     "data": {
      "text/plain": [
       "4×4 Array{Float64,2}:\n",
       " 451.316    -46.9291  244.737    332.801   \n",
       " 388.209    738.08    197.466    338.968   \n",
       "  12.3484   -11.9891    5.7137     0.440943\n",
       "   7.89225    8.0306    4.49272    8.42567 "
      ]
     },
     "metadata": {},
     "output_type": "display_data"
    },
    {
     "data": {
      "text/plain": [
       "4×4 Array{Float64,2}:\n",
       " 464.648    -58.3312   249.598    332.119   \n",
       " 397.38     745.134    201.997    348.017   \n",
       "  12.5055   -12.2789     5.94069    0.531087\n",
       "   8.74677    7.72955    3.99219    8.29623 "
      ]
     },
     "metadata": {},
     "output_type": "display_data"
    },
    {
     "data": {
      "text/plain": [
       "4×4 Array{Float64,2}:\n",
       " 476.433   -71.879    256.841    332.5     \n",
       " 407.362   751.803    207.122    355.191   \n",
       "  13.3267  -12.4021     6.99286   -0.102915\n",
       "   8.9948    7.91063    3.97195    8.40168 "
      ]
     },
     "metadata": {},
     "output_type": "display_data"
    },
    {
     "data": {
      "text/plain": [
       "4×4 Array{Float64,2}:\n",
       " 490.961    -86.4016   262.688    331.276   \n",
       " 415.857    759.79     211.41     363.376   \n",
       "  13.2528   -12.7979     6.31657   -0.464415\n",
       "   8.62158    7.82155    4.09741    9.01025 "
      ]
     },
     "metadata": {},
     "output_type": "display_data"
    },
    {
     "data": {
      "text/plain": [
       "4×4 Array{Float64,2}:\n",
       " 505.186    -98.9254   270.631    330.028   \n",
       " 423.875    768.372    216.477    371.583   \n",
       "  12.9988   -13.4014     6.94891   -0.603839\n",
       "   8.58262    8.04545    3.91767    9.00658 "
      ]
     },
     "metadata": {},
     "output_type": "display_data"
    },
    {
     "data": {
      "text/plain": [
       "4×4 Array{Float64,2}:\n",
       " 517.969    -112.713    276.858    330.77     \n",
       " 433.666     776.201    221.814    381.249    \n",
       "  13.4658    -13.1821     6.68055   -0.0648859\n",
       "   9.11874     8.82171    4.55556    8.84175  "
      ]
     },
     "metadata": {},
     "output_type": "display_data"
    },
    {
     "data": {
      "text/plain": [
       "4×4 Array{Float64,2}:\n",
       " 532.562    -127.807    284.486    330.63     \n",
       " 443.529     786.133    226.621    388.521    \n",
       "  14.3561    -14.3755     6.5352    -0.0753328\n",
       "   9.12913     9.46086    4.59457    8.2754   "
      ]
     },
     "metadata": {},
     "output_type": "display_data"
    },
    {
     "data": {
      "text/plain": [
       "4×4 Array{Float64,2}:\n",
       " 546.411    -142.422    291.631    329.953   \n",
       " 452.673     794.074    231.336    397.072   \n",
       "  14.432     -14.3326     6.94929   -0.342572\n",
       "   9.32957     8.85761    4.61591    8.33771 "
      ]
     },
     "metadata": {},
     "output_type": "display_data"
    },
    {
     "data": {
      "text/plain": [
       "4×4 Array{Float64,2}:\n",
       " 560.394    -157.673    298.091    330.567   \n",
       " 463.597     803.486    235.699    406.135   \n",
       "  14.6529    -14.5594     7.27678   -0.617547\n",
       "   9.54319     8.88463    4.14413    9.085   "
      ]
     },
     "metadata": {},
     "output_type": "display_data"
    },
    {
     "data": {
      "text/plain": [
       "4×4 Array{Float64,2}:\n",
       " 575.416    -172.486    305.887    330.687   \n",
       " 473.786     813.39     238.317    416.455   \n",
       "  14.6363    -14.708      7.47373    0.302136\n",
       "   9.11917     9.47464    3.7809     9.19019 "
      ]
     },
     "metadata": {},
     "output_type": "display_data"
    },
    {
     "data": {
      "text/plain": [
       "4×4 Array{Float64,2}:\n",
       " 590.964    -188.195    313.01     331.523   \n",
       " 483.926     821.413    241.51     425.727   \n",
       "  14.6795    -14.6099     7.7401     0.425273\n",
       "   9.05443     9.13729    4.73612    8.74097 "
      ]
     },
     "metadata": {},
     "output_type": "display_data"
    },
    {
     "data": {
      "text/plain": [
       "4×4 Array{Float64,2}:\n",
       " 607.086    -202.655    321.298    332.958   \n",
       " 493.465     830.36     245.869    434.935   \n",
       "  15.4238    -15.3871     7.33295   -0.138203\n",
       "   9.70647     9.55103    4.52184    9.30056 "
      ]
     },
     "metadata": {},
     "output_type": "display_data"
    },
    {
     "data": {
      "text/plain": [
       "4×4 Array{Float64,2}:\n",
       " 623.516    -217.104    330.215    331.389   \n",
       " 503.08      839.802    249.279    444.104   \n",
       "  15.5603    -15.2967     7.79933   -0.601368\n",
       "   9.31558     9.05708    4.72038    9.49012 "
      ]
     },
     "metadata": {},
     "output_type": "display_data"
    },
    {
     "data": {
      "text/plain": [
       "4×4 Array{Float64,2}:\n",
       " 639.385    -232.812    338.595    331.398   \n",
       " 513.194     848.88     253.884    454.913   \n",
       "  15.7598    -15.4693     7.7184     0.205076\n",
       "   9.85268     9.45201    5.33341    9.91684 "
      ]
     },
     "metadata": {},
     "output_type": "display_data"
    },
    {
     "data": {
      "text/plain": [
       "4×4 Array{Float64,2}:\n",
       " 655.306    -248.913    345.204    330.776   \n",
       " 523.984     858.65     258.091    464.081   \n",
       "  15.4697    -16.529      7.83863    0.625582\n",
       "   9.89388     9.52564    4.49962   10.3489  "
      ]
     },
     "metadata": {},
     "output_type": "display_data"
    },
    {
     "data": {
      "text/plain": [
       "4×4 Array{Float64,2}:\n",
       " 670.06     -266.61     354.527    330.863   \n",
       " 532.182     867.418    262.255    472.79    \n",
       "  16.1578    -16.3429     8.43759    0.177849\n",
       "   9.24487     9.76954    4.81979   10.2027  "
      ]
     },
     "metadata": {},
     "output_type": "display_data"
    },
    {
     "data": {
      "text/plain": [
       "4×4 Array{Float64,2}:\n",
       " 686.281    -283.401   363.169    330.223   \n",
       " 540.62      877.298   266.545    482.944   \n",
       "  16.883     -16.8347    8.70306    0.057593\n",
       "   9.40901    10.274     5.43766   10.3407  "
      ]
     },
     "metadata": {},
     "output_type": "display_data"
    },
    {
     "data": {
      "text/plain": [
       "4×4 Array{Float64,2}:\n",
       " 703.526   -300.821   372.782    330.307   \n",
       " 550.777    888.728   273.426    493.579   \n",
       "  17.0384   -16.9892    7.99842   -0.258317\n",
       "  10.1471    10.2304    5.27792   10.4143  "
      ]
     },
     "metadata": {},
     "output_type": "display_data"
    },
    {
     "data": {
      "image/svg+xml": [
       "<?xml version=\"1.0\" encoding=\"utf-8\"?>\n",
       "<svg xmlns=\"http://www.w3.org/2000/svg\" xmlns:xlink=\"http://www.w3.org/1999/xlink\" width=\"600\" height=\"400\" viewBox=\"0 0 2400 1600\">\n",
       "<defs>\n",
       "  <clipPath id=\"clip1700\">\n",
       "    <rect x=\"0\" y=\"0\" width=\"2400\" height=\"1600\"/>\n",
       "  </clipPath>\n",
       "</defs>\n",
       "<path clip-path=\"url(#clip1700)\" d=\"\n",
       "M0 1600 L2400 1600 L2400 0 L0 0  Z\n",
       "  \" fill=\"#ffffff\" fill-rule=\"evenodd\" fill-opacity=\"1\"/>\n",
       "<defs>\n",
       "  <clipPath id=\"clip1701\">\n",
       "    <rect x=\"480\" y=\"0\" width=\"1681\" height=\"1600\"/>\n",
       "  </clipPath>\n",
       "</defs>\n",
       "<path clip-path=\"url(#clip1700)\" d=\"\n",
       "M167.279 1487.47 L2352.76 1487.47 L2352.76 47.2441 L167.279 47.2441  Z\n",
       "  \" fill=\"#ffffff\" fill-rule=\"evenodd\" fill-opacity=\"1\"/>\n",
       "<defs>\n",
       "  <clipPath id=\"clip1702\">\n",
       "    <rect x=\"167\" y=\"47\" width=\"2186\" height=\"1441\"/>\n",
       "  </clipPath>\n",
       "</defs>\n",
       "<polyline clip-path=\"url(#clip1702)\" style=\"stroke:#000000; stroke-width:2; stroke-opacity:0.1; fill:none\" points=\"\n",
       "  436.102,1487.47 436.102,47.2441 \n",
       "  \"/>\n",
       "<polyline clip-path=\"url(#clip1702)\" style=\"stroke:#000000; stroke-width:2; stroke-opacity:0.1; fill:none\" points=\"\n",
       "  846.671,1487.47 846.671,47.2441 \n",
       "  \"/>\n",
       "<polyline clip-path=\"url(#clip1702)\" style=\"stroke:#000000; stroke-width:2; stroke-opacity:0.1; fill:none\" points=\"\n",
       "  1257.24,1487.47 1257.24,47.2441 \n",
       "  \"/>\n",
       "<polyline clip-path=\"url(#clip1702)\" style=\"stroke:#000000; stroke-width:2; stroke-opacity:0.1; fill:none\" points=\"\n",
       "  1667.81,1487.47 1667.81,47.2441 \n",
       "  \"/>\n",
       "<polyline clip-path=\"url(#clip1702)\" style=\"stroke:#000000; stroke-width:2; stroke-opacity:0.1; fill:none\" points=\"\n",
       "  2078.38,1487.47 2078.38,47.2441 \n",
       "  \"/>\n",
       "<polyline clip-path=\"url(#clip1702)\" style=\"stroke:#000000; stroke-width:2; stroke-opacity:0.1; fill:none\" points=\"\n",
       "  167.279,1457.96 2352.76,1457.96 \n",
       "  \"/>\n",
       "<polyline clip-path=\"url(#clip1702)\" style=\"stroke:#000000; stroke-width:2; stroke-opacity:0.1; fill:none\" points=\"\n",
       "  167.279,1149.66 2352.76,1149.66 \n",
       "  \"/>\n",
       "<polyline clip-path=\"url(#clip1702)\" style=\"stroke:#000000; stroke-width:2; stroke-opacity:0.1; fill:none\" points=\"\n",
       "  167.279,841.368 2352.76,841.368 \n",
       "  \"/>\n",
       "<polyline clip-path=\"url(#clip1702)\" style=\"stroke:#000000; stroke-width:2; stroke-opacity:0.1; fill:none\" points=\"\n",
       "  167.279,533.072 2352.76,533.072 \n",
       "  \"/>\n",
       "<polyline clip-path=\"url(#clip1702)\" style=\"stroke:#000000; stroke-width:2; stroke-opacity:0.1; fill:none\" points=\"\n",
       "  167.279,224.777 2352.76,224.777 \n",
       "  \"/>\n",
       "<polyline clip-path=\"url(#clip1700)\" style=\"stroke:#000000; stroke-width:4; stroke-opacity:1; fill:none\" points=\"\n",
       "  167.279,1487.47 2352.76,1487.47 \n",
       "  \"/>\n",
       "<polyline clip-path=\"url(#clip1700)\" style=\"stroke:#000000; stroke-width:4; stroke-opacity:1; fill:none\" points=\"\n",
       "  167.279,1487.47 167.279,47.2441 \n",
       "  \"/>\n",
       "<polyline clip-path=\"url(#clip1700)\" style=\"stroke:#000000; stroke-width:4; stroke-opacity:1; fill:none\" points=\"\n",
       "  436.102,1487.47 436.102,1470.19 \n",
       "  \"/>\n",
       "<polyline clip-path=\"url(#clip1700)\" style=\"stroke:#000000; stroke-width:4; stroke-opacity:1; fill:none\" points=\"\n",
       "  846.671,1487.47 846.671,1470.19 \n",
       "  \"/>\n",
       "<polyline clip-path=\"url(#clip1700)\" style=\"stroke:#000000; stroke-width:4; stroke-opacity:1; fill:none\" points=\"\n",
       "  1257.24,1487.47 1257.24,1470.19 \n",
       "  \"/>\n",
       "<polyline clip-path=\"url(#clip1700)\" style=\"stroke:#000000; stroke-width:4; stroke-opacity:1; fill:none\" points=\"\n",
       "  1667.81,1487.47 1667.81,1470.19 \n",
       "  \"/>\n",
       "<polyline clip-path=\"url(#clip1700)\" style=\"stroke:#000000; stroke-width:4; stroke-opacity:1; fill:none\" points=\"\n",
       "  2078.38,1487.47 2078.38,1470.19 \n",
       "  \"/>\n",
       "<polyline clip-path=\"url(#clip1700)\" style=\"stroke:#000000; stroke-width:4; stroke-opacity:1; fill:none\" points=\"\n",
       "  167.279,1457.96 193.505,1457.96 \n",
       "  \"/>\n",
       "<polyline clip-path=\"url(#clip1700)\" style=\"stroke:#000000; stroke-width:4; stroke-opacity:1; fill:none\" points=\"\n",
       "  167.279,1149.66 193.505,1149.66 \n",
       "  \"/>\n",
       "<polyline clip-path=\"url(#clip1700)\" style=\"stroke:#000000; stroke-width:4; stroke-opacity:1; fill:none\" points=\"\n",
       "  167.279,841.368 193.505,841.368 \n",
       "  \"/>\n",
       "<polyline clip-path=\"url(#clip1700)\" style=\"stroke:#000000; stroke-width:4; stroke-opacity:1; fill:none\" points=\"\n",
       "  167.279,533.072 193.505,533.072 \n",
       "  \"/>\n",
       "<polyline clip-path=\"url(#clip1700)\" style=\"stroke:#000000; stroke-width:4; stroke-opacity:1; fill:none\" points=\"\n",
       "  167.279,224.777 193.505,224.777 \n",
       "  \"/>\n",
       "<g clip-path=\"url(#clip1700)\">\n",
       "<text style=\"fill:#000000; fill-opacity:1; font-family:Arial,Helvetica Neue,Helvetica,sans-serif; font-size:48px; text-anchor:middle;\" transform=\"rotate(0, 436.102, 1541.47)\" x=\"436.102\" y=\"1541.47\">-200</text>\n",
       "</g>\n",
       "<g clip-path=\"url(#clip1700)\">\n",
       "<text style=\"fill:#000000; fill-opacity:1; font-family:Arial,Helvetica Neue,Helvetica,sans-serif; font-size:48px; text-anchor:middle;\" transform=\"rotate(0, 846.671, 1541.47)\" x=\"846.671\" y=\"1541.47\">0</text>\n",
       "</g>\n",
       "<g clip-path=\"url(#clip1700)\">\n",
       "<text style=\"fill:#000000; fill-opacity:1; font-family:Arial,Helvetica Neue,Helvetica,sans-serif; font-size:48px; text-anchor:middle;\" transform=\"rotate(0, 1257.24, 1541.47)\" x=\"1257.24\" y=\"1541.47\">200</text>\n",
       "</g>\n",
       "<g clip-path=\"url(#clip1700)\">\n",
       "<text style=\"fill:#000000; fill-opacity:1; font-family:Arial,Helvetica Neue,Helvetica,sans-serif; font-size:48px; text-anchor:middle;\" transform=\"rotate(0, 1667.81, 1541.47)\" x=\"1667.81\" y=\"1541.47\">400</text>\n",
       "</g>\n",
       "<g clip-path=\"url(#clip1700)\">\n",
       "<text style=\"fill:#000000; fill-opacity:1; font-family:Arial,Helvetica Neue,Helvetica,sans-serif; font-size:48px; text-anchor:middle;\" transform=\"rotate(0, 2078.38, 1541.47)\" x=\"2078.38\" y=\"1541.47\">600</text>\n",
       "</g>\n",
       "<g clip-path=\"url(#clip1700)\">\n",
       "<text style=\"fill:#000000; fill-opacity:1; font-family:Arial,Helvetica Neue,Helvetica,sans-serif; font-size:48px; text-anchor:end;\" transform=\"rotate(0, 143.279, 1475.46)\" x=\"143.279\" y=\"1475.46\">0</text>\n",
       "</g>\n",
       "<g clip-path=\"url(#clip1700)\">\n",
       "<text style=\"fill:#000000; fill-opacity:1; font-family:Arial,Helvetica Neue,Helvetica,sans-serif; font-size:48px; text-anchor:end;\" transform=\"rotate(0, 143.279, 1167.16)\" x=\"143.279\" y=\"1167.16\">200</text>\n",
       "</g>\n",
       "<g clip-path=\"url(#clip1700)\">\n",
       "<text style=\"fill:#000000; fill-opacity:1; font-family:Arial,Helvetica Neue,Helvetica,sans-serif; font-size:48px; text-anchor:end;\" transform=\"rotate(0, 143.279, 858.868)\" x=\"143.279\" y=\"858.868\">400</text>\n",
       "</g>\n",
       "<g clip-path=\"url(#clip1700)\">\n",
       "<text style=\"fill:#000000; fill-opacity:1; font-family:Arial,Helvetica Neue,Helvetica,sans-serif; font-size:48px; text-anchor:end;\" transform=\"rotate(0, 143.279, 550.572)\" x=\"143.279\" y=\"550.572\">600</text>\n",
       "</g>\n",
       "<g clip-path=\"url(#clip1700)\">\n",
       "<text style=\"fill:#000000; fill-opacity:1; font-family:Arial,Helvetica Neue,Helvetica,sans-serif; font-size:48px; text-anchor:end;\" transform=\"rotate(0, 143.279, 242.277)\" x=\"143.279\" y=\"242.277\">800</text>\n",
       "</g>\n",
       "<polyline clip-path=\"url(#clip1702)\" style=\"stroke:#009af9; stroke-width:4; stroke-opacity:1; fill:none\" points=\"\n",
       "  869.746,1383.88 868.632,1383.62 868.918,1382.71 869.29,1382.24 869.241,1380.64 868.191,1379.28 868.048,1377.19 869.995,1375.74 870.098,1372.23 870.66,1369.72 \n",
       "  872.02,1369.06 870.901,1367.23 872.12,1365.86 873.899,1362.74 876.422,1359.11 876.638,1357.2 877.88,1352.25 881.103,1350.54 886.113,1348.57 887,1344.88 \n",
       "  889.703,1340.73 895.25,1336.28 899.11,1330.47 907.094,1325.59 914.856,1320.88 923.011,1316.88 930.789,1311.99 933.51,1306.65 941.966,1302.25 946.954,1298.85 \n",
       "  955.343,1293.44 961.197,1287.87 967.751,1283.18 973.435,1277.73 983.039,1272.36 989.011,1267.63 998.612,1261.27 1008.05,1256.64 1015.45,1252.45 1022.61,1248.7 \n",
       "  1033.35,1244.21 1040.76,1236.41 1054.21,1229.36 1066.39,1221.81 1078.64,1215.84 1089.49,1208.27 1101.91,1202.88 1112.21,1195 1122.21,1185.71 1136.92,1178.04 \n",
       "  1147.39,1171.58 1162.41,1164.38 1174.97,1154.17 1189.11,1146.03 1200.96,1138.75 1214.63,1132 1228.71,1124.89 1242.62,1117.07 1257.91,1109.09 1274.98,1101.13 \n",
       "  1293.74,1092.77 1312.45,1081.43 1333.69,1072.72 1351.53,1064.54 1370.28,1052.62 1387.21,1043.03 1408.68,1033.66 1429.57,1021.43 1450.81,1009.83 1468.7,999.721 \n",
       "  1491.32,990.899 1511.76,981.694 1534.24,969.888 1559.21,958.576 1582.78,949.914 1607.26,939.888 1627.53,929.877 1653.46,918.452 1675.78,907.381 1697.28,896.61 \n",
       "  1722.52,883.286 1746.63,872.306 1773.15,859.543 1800.52,845.406 1824.72,830.019 1854.54,816.924 1883.74,804.565 1909.98,789.472 1939.94,774.269 1968.37,760.174 \n",
       "  1997.07,743.334 2027.91,727.629 2059.83,711.997 2092.93,697.294 2126.65,682.473 2159.23,666.881 2191.91,650.249 2222.2,637.612 2255.5,624.606 2290.9,608.948 \n",
       "  \n",
       "  \"/>\n",
       "<polyline clip-path=\"url(#clip1702)\" style=\"stroke:#e26f46; stroke-width:4; stroke-opacity:1; fill:none\" points=\"\n",
       "  1669.29,850.263 1669.73,850.525 1670.41,850.661 1671.32,850.931 1669.78,851.398 1669.25,851.406 1666.27,850.435 1665.61,849.697 1664.35,849.695 1662.24,849.043 \n",
       "  1660.2,848.933 1659.17,847.168 1657.75,844.956 1654.95,842.65 1652.94,837.688 1650.83,834.738 1647.54,831.852 1639.99,826.767 1636.86,822.764 1634.16,820.476 \n",
       "  1629.5,817.299 1625.83,814.986 1619.89,810.222 1615.3,806.141 1608.84,801.326 1599.75,798.185 1592.37,796.031 1587.74,793.536 1580.86,787.604 1573.44,782.443 \n",
       "  1566.38,779.782 1559.57,774.031 1554.02,767.646 1546.7,760.057 1538.9,753.348 1529.03,748.66 1522.45,743.603 1510.59,737.966 1501.51,731.24 1493.52,725.361 \n",
       "  1482.16,717.441 1471.35,710.855 1458.51,701.864 1449.61,693.741 1437.12,685.4 1428.5,679.057 1415.72,670.52 1401.61,664.673 1387.35,657.702 1375.82,652.798 \n",
       "  1365.11,647.481 1354.06,641.756 1340.94,633.207 1327.41,626.453 1312.26,619.041 1295.4,611.275 1279.33,603.115 1261.9,596.298 1243.16,584.821 1227.72,573.627 \n",
       "  1211.77,563.042 1191.68,552.941 1174.41,543.13 1158.33,531.914 1141.03,521.585 1122.5,512.311 1101.59,501.378 1080.47,489.045 1060.34,480.715 1040.96,469.693 \n",
       "  1019.68,458.128 998.507,449.487 976.62,437.438 956.415,427.224 936.305,415.219 914.293,403.853 889.456,393.027 864.587,380.957 842.566,367.549 820.034,356.097 \n",
       "  796.808,344.596 773.761,333.112 750.333,320.226 726.926,309.352 699.114,299.072 669.302,286.759 643.592,273.531 615.288,261.463 584.302,246.153 554.299,233.912 \n",
       "  522.992,219.403 492.583,204.137 460.335,191.77 430.651,177.978 400.989,163.423 368.743,149.43 335.691,134.369 299.362,120.853 264.892,105.624 229.132,88.0053 \n",
       "  \n",
       "  \"/>\n",
       "<polyline clip-path=\"url(#clip1702)\" style=\"stroke:#3da44d; stroke-width:4; stroke-opacity:1; fill:none\" points=\"\n",
       "  885.856,1391.83 886.048,1391.61 886.413,1391.32 887.479,1390.87 888.769,1391.5 888.383,1391.84 887.578,1393.13 886.91,1393.44 887.518,1393.8 889.742,1394.34 \n",
       "  893.568,1396.08 895.645,1396.57 895.726,1397.54 899.523,1397.61 902.638,1396.57 903.531,1395.05 902.603,1393.75 903.075,1395.94 904.763,1394.87 908.251,1393.81 \n",
       "  908.375,1393.79 911.279,1393.4 914.294,1391.65 917.408,1388 922.736,1384.15 925.127,1381.45 926.387,1379.6 928.034,1377.54 932.45,1374.34 935.457,1373.25 \n",
       "  936.788,1372.52 943.052,1370.74 946.478,1368.82 951.655,1364.41 957.524,1364.25 959.868,1361.6 965.717,1358.37 971.211,1355.02 976.327,1351.1 978.733,1349.69 \n",
       "  980.978,1347.03 985.726,1342.39 988.531,1340.98 990.712,1338.24 995.921,1333.47 1005.21,1330.67 1009.81,1327.82 1017.42,1324.88 1021.43,1319.64 1026.89,1316.06 \n",
       "  1034.62,1311.36 1039.54,1308.54 1044.46,1304.11 1053.45,1299.22 1060.32,1296.36 1067.9,1291.35 1075.51,1287.4 1082.87,1285.81 1088.58,1279.89 1094.41,1273.55 \n",
       "  1104.03,1268.76 1115.03,1263.39 1125.43,1260.39 1135.67,1257.16 1143.54,1254.04 1151.07,1247.11 1162.79,1240.96 1174.05,1238.4 1183.63,1234.45 1195.52,1228.39 \n",
       "  1206.56,1223.57 1218.28,1217.56 1228.86,1210.5 1243.04,1204.81 1253.32,1200.91 1265.83,1196.27 1274.84,1190.92 1289.23,1187.11 1302.25,1182.13 1311.53,1176.58 \n",
       "  1323.28,1169.3 1335.05,1161.27 1349.08,1153.57 1359.06,1146.59 1373.93,1138.68 1385.93,1132.07 1402.24,1124.26 1415.02,1116.04 1430.68,1108.63 1445.34,1101.36 \n",
       "  1458.61,1094.63 1474.61,1090.6 1489.23,1085.68 1506.25,1078.96 1524.55,1073.7 1541.75,1066.6 1555.32,1060.12 1574.46,1053.7 1592.2,1047.08 1611.94,1036.48 \n",
       "  \n",
       "  \"/>\n",
       "<polyline clip-path=\"url(#clip1702)\" style=\"stroke:#c271d2; stroke-width:4; stroke-opacity:1; fill:none\" points=\"\n",
       "  1540.85,1443.4 1540.82,1444.53 1539.82,1445.74 1538.17,1446.71 1538.63,1446.1 1538.39,1446.03 1537.46,1445.99 1535.45,1446.42 1533.72,1445.57 1532.56,1445.77 \n",
       "  1532.63,1443.95 1531.78,1444.68 1529.6,1443.23 1529.93,1439.82 1530.92,1437.37 1528.52,1436.58 1529.12,1435.51 1527.49,1434.61 1526.03,1433.03 1527.49,1428.64 \n",
       "  1527.93,1425.79 1530.28,1423.71 1528.58,1420.88 1529.68,1414.91 1530.56,1409.84 1530.47,1407.19 1532.21,1400.88 1533.94,1396.67 1533.19,1391.01 1535.31,1386.54 \n",
       "  1534,1383 1533.17,1380.77 1534.99,1377.32 1537.2,1370.45 1536.91,1365.98 1535.63,1361.26 1535.07,1356.32 1532.54,1352.16 1534.23,1345.66 1535.01,1339.69 \n",
       "  1533.61,1332.94 1533.34,1326.9 1533.05,1319.61 1531.88,1314.28 1529.5,1309.01 1528.69,1301.33 1527.64,1294.55 1527.57,1289.87 1526.76,1281.9 1529.88,1272.18 \n",
       "  1532.01,1264.35 1529.92,1256.37 1531.97,1251.35 1529.62,1244.07 1529.8,1235.51 1531.93,1225.68 1532.12,1218.81 1532.05,1211.73 1531.06,1200.95 1529.95,1192.38 \n",
       "  1528.02,1183.37 1526.14,1173.65 1526.13,1162.2 1527.51,1153.48 1528.19,1141.72 1528.59,1131.16 1530.35,1121.36 1529.71,1109.42 1530.06,1098.07 1532.35,1088.11 \n",
       "  1534.66,1079.33 1532.49,1068.52 1530.41,1056.83 1530.71,1045.9 1531.76,1032.81 1533.14,1020.1 1533.27,1008.6 1530.76,998.584 1527.87,988.289 1529.15,976.006 \n",
       "  1532,962.301 1531.93,949.764 1529.86,935.447 1528.46,921.498 1529.24,910.44 1526.73,897.823 1524.17,885.173 1525.69,870.273 1525.4,859.062 1524.01,845.882 \n",
       "  1525.28,831.911 1525.52,816.002 1527.24,801.711 1530.18,787.516 1526.96,773.382 1526.98,756.72 1525.7,742.588 1525.88,729.164 1524.57,713.512 1524.74,697.118 \n",
       "  \n",
       "  \"/>\n",
       "<path clip-path=\"url(#clip1700)\" d=\"\n",
       "M1853.52 433.164 L2280.76 433.164 L2280.76 130.764 L1853.52 130.764  Z\n",
       "  \" fill=\"#ffffff\" fill-rule=\"evenodd\" fill-opacity=\"1\"/>\n",
       "<polyline clip-path=\"url(#clip1700)\" style=\"stroke:#000000; stroke-width:4; stroke-opacity:1; fill:none\" points=\"\n",
       "  1853.52,433.164 2280.76,433.164 2280.76,130.764 1853.52,130.764 1853.52,433.164 \n",
       "  \"/>\n",
       "<polyline clip-path=\"url(#clip1700)\" style=\"stroke:#009af9; stroke-width:4; stroke-opacity:1; fill:none\" points=\"\n",
       "  1877.52,191.244 2021.52,191.244 \n",
       "  \"/>\n",
       "<g clip-path=\"url(#clip1700)\">\n",
       "<text style=\"fill:#000000; fill-opacity:1; font-family:Arial,Helvetica Neue,Helvetica,sans-serif; font-size:48px; text-anchor:start;\" transform=\"rotate(0, 2045.52, 208.744)\" x=\"2045.52\" y=\"208.744\">Filtered1</text>\n",
       "</g>\n",
       "<polyline clip-path=\"url(#clip1700)\" style=\"stroke:#e26f46; stroke-width:4; stroke-opacity:1; fill:none\" points=\"\n",
       "  1877.52,251.724 2021.52,251.724 \n",
       "  \"/>\n",
       "<g clip-path=\"url(#clip1700)\">\n",
       "<text style=\"fill:#000000; fill-opacity:1; font-family:Arial,Helvetica Neue,Helvetica,sans-serif; font-size:48px; text-anchor:start;\" transform=\"rotate(0, 2045.52, 269.224)\" x=\"2045.52\" y=\"269.224\">Filtered2</text>\n",
       "</g>\n",
       "<polyline clip-path=\"url(#clip1700)\" style=\"stroke:#3da44d; stroke-width:4; stroke-opacity:1; fill:none\" points=\"\n",
       "  1877.52,312.204 2021.52,312.204 \n",
       "  \"/>\n",
       "<g clip-path=\"url(#clip1700)\">\n",
       "<text style=\"fill:#000000; fill-opacity:1; font-family:Arial,Helvetica Neue,Helvetica,sans-serif; font-size:48px; text-anchor:start;\" transform=\"rotate(0, 2045.52, 329.704)\" x=\"2045.52\" y=\"329.704\">Filtered3</text>\n",
       "</g>\n",
       "<polyline clip-path=\"url(#clip1700)\" style=\"stroke:#c271d2; stroke-width:4; stroke-opacity:1; fill:none\" points=\"\n",
       "  1877.52,372.684 2021.52,372.684 \n",
       "  \"/>\n",
       "<g clip-path=\"url(#clip1700)\">\n",
       "<text style=\"fill:#000000; fill-opacity:1; font-family:Arial,Helvetica Neue,Helvetica,sans-serif; font-size:48px; text-anchor:start;\" transform=\"rotate(0, 2045.52, 390.184)\" x=\"2045.52\" y=\"390.184\">Filtered4</text>\n",
       "</g>\n",
       "</svg>\n"
      ]
     },
     "execution_count": 88,
     "metadata": {},
     "output_type": "execute_result"
    }
   ],
   "source": [
    "xf,kGains = runKalmanKinematic(measurementsNoise,dt,.1,.1,-.1,.1,.05,.05,0,.1,noise/2,vnoise/2)\n",
    "plot(xf[1,1,:],xf[2,1,:],label=\"Filtered1\")\n",
    "plot!(xf[1,2,:],xf[2,2,:],label=\"Filtered2\")\n",
    "plot!(xf[1,3,:],xf[2,3,:],label=\"Filtered3\")\n",
    "plot!(xf[1,4,:],xf[2,4,:],label=\"Filtered4\")"
   ]
  },
  {
   "cell_type": "markdown",
   "metadata": {},
   "source": [
    "RMSE error of filtered values. X, Y, Vx, Vy in order"
   ]
  },
  {
   "cell_type": "code",
   "execution_count": 89,
   "metadata": {},
   "outputs": [
    {
     "data": {
      "text/plain": [
       "4×4×1 Array{Float64,3}:\n",
       "[:, :, 1] =\n",
       " 3.87878   2.64443   2.42867   1.86085 \n",
       " 4.70027   4.13546   4.57075   2.87102 \n",
       " 0.361682  0.423594  0.377192  0.372261\n",
       " 0.411334  0.396173  0.325737  0.406712"
      ]
     },
     "execution_count": 89,
     "metadata": {},
     "output_type": "execute_result"
    }
   ],
   "source": [
    "sqrt.(sum((xf - (measurementsTrue)).^2,dims=3)/100)"
   ]
  }
 ],
 "metadata": {
  "kernelspec": {
   "display_name": "Julia 1.3.1",
   "language": "julia",
   "name": "julia-1.3"
  },
  "language_info": {
   "file_extension": ".jl",
   "mimetype": "application/julia",
   "name": "julia",
   "version": "1.3.1"
  }
 },
 "nbformat": 4,
 "nbformat_minor": 4
}
